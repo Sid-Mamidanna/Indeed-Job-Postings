{
 "cells": [
  {
   "cell_type": "markdown",
   "metadata": {
    "focus": false,
    "id": "69b9a648-bcc7-490d-9f9b-ea244d156bd6"
   },
   "source": [
    "# Web Scraping for Indeed.com & Predicting Salaries"
   ]
  },
  {
   "cell_type": "markdown",
   "metadata": {
    "focus": false,
    "id": "34681254-c802-462f-829d-8894d0772d08"
   },
   "source": [
    "In this project, we will practice two major skills: collecting data by scraping a website and then building a binary predictor with Logistic Regression.\n",
    "\n",
    "We are going to collect salary information on data science jobs in a variety of markets. Then using the location, title and summary of the job we will attempt to predict the salary of the job. For job posting sites, this would be extraordinarily useful. While most listings DO NOT come with salary information (as you will see in this exercise), being to able extrapolate or predict the expected salaries from other listings can help guide negotiations.\n",
    "\n",
    "Normally, we could use regression for this task; however, we will convert this problem into classification and use Logistic Regression.\n",
    "\n",
    "- Question: Why would we want this to be a classification problem?\n",
    "- Answer: While more precision may be better, there is a fair amount of natural variance in job salaries - predicting a range be may be useful.\n",
    "\n",
    "Therefore, the first part of the assignment will be focused on scraping Indeed.com. In the second, we'll focus on using listings with salary information to build a model and predict additional salaries."
   ]
  },
  {
   "cell_type": "markdown",
   "metadata": {
    "focus": false,
    "id": "a948d79c-5527-4c0d-ab23-f5d43ce72056"
   },
   "source": [
    "### Scraping job listings from Indeed.com"
   ]
  },
  {
   "cell_type": "markdown",
   "metadata": {
    "focus": true,
    "id": "7203e0c9-e437-4802-a6ad-7dc464f94436"
   },
   "source": [
    "We will be scraping job listings from Indeed.com using BeautifulSoup. Luckily, Indeed.com is a simple text page where we can easily find relevant entries.\n",
    "\n",
    "First, look at the source of an Indeed.com page: (http://www.indeed.com/jobs?q=data+scientist+%2420%2C000&l=New+York&start=10\")\n",
    "\n",
    "Notice, each job listing is underneath a `div` tag with a class name of `result`. We can use BeautifulSoup to extract those. "
   ]
  },
  {
   "cell_type": "markdown",
   "metadata": {
    "focus": false,
    "id": "9732c901-ae26-4160-8376-42e22dd327df"
   },
   "source": [
    "#### Setup a request (using `requests`) to the URL below. Use BeautifulSoup to parse the page and extract all results (HINT: Look for div tags with class name result)\n",
    "\n",
    "The URL here has many query parameters\n",
    "\n",
    "- `q` for the job search\n",
    "- This is followed by \"+20,000\" to return results with salaries (or expected salaries >$20,000)\n",
    "- `l` for a location \n",
    "- `start` for what result number to start on"
   ]
  },
  {
   "cell_type": "code",
   "execution_count": 127,
   "metadata": {
    "collapsed": true
   },
   "outputs": [],
   "source": [
    "import pandas as pd"
   ]
  },
  {
   "cell_type": "code",
   "execution_count": 128,
   "metadata": {
    "collapsed": false,
    "focus": false,
    "id": "e915023e-6b0d-4982-af2a-b1e0355f4927"
   },
   "outputs": [],
   "source": [
    "URL = \"http://www.indeed.com/jobs?q=data+scientist+%2420%2C000&l=New+York&start=10\""
   ]
  },
  {
   "cell_type": "code",
   "execution_count": 129,
   "metadata": {
    "collapsed": true
   },
   "outputs": [],
   "source": [
    "import seaborn as sns"
   ]
  },
  {
   "cell_type": "code",
   "execution_count": 130,
   "metadata": {
    "collapsed": true,
    "focus": false,
    "id": "2efefc73-064a-482d-b3b5-ddf5508cb4ec"
   },
   "outputs": [],
   "source": [
    "import urllib2\n",
    "import bs4\n",
    "from bs4 import BeautifulSoup"
   ]
  },
  {
   "cell_type": "code",
   "execution_count": 131,
   "metadata": {
    "collapsed": false,
    "scrolled": true
   },
   "outputs": [],
   "source": [
    "import numpy as np\n",
    "import pandas as pd\n",
    "import statsmodels.api as sm\n",
    "import matplotlib.pyplot as plt\n",
    "from patsy import dmatrices\n",
    "from sklearn.linear_model import LogisticRegression\n",
    "from sklearn.cross_validation import train_test_split\n",
    "from sklearn import metrics\n",
    "from sklearn.cross_validation import cross_val_score"
   ]
  },
  {
   "cell_type": "code",
   "execution_count": 132,
   "metadata": {
    "collapsed": false,
    "focus": false,
    "id": "2c6752c4-7704-4c94-8bc0-6f13d2d0d570"
   },
   "outputs": [],
   "source": [
    "soup = BeautifulSoup(urllib2.urlopen(URL).read(), \"html.parser\")"
   ]
  },
  {
   "cell_type": "code",
   "execution_count": 133,
   "metadata": {
    "collapsed": true
   },
   "outputs": [],
   "source": [
    "# print soup.prettify()"
   ]
  },
  {
   "cell_type": "code",
   "execution_count": 134,
   "metadata": {
    "collapsed": false
   },
   "outputs": [],
   "source": [
    "URL = \"http://www.indeed.com/jobs?q=data+scientist+%2420%2C000&l=New+York\"\n",
    "url_next = \"http://www.indeed.com/jobs?q=data+scientist+%2420%2C000&l=New+York&start=10&pp=\"\n",
    "URL_base = \"http://www.indeed.com/jobs?q=data+scientist+%2420%2C000&l=New+York\"\n",
    "\n",
    "def get_URL(min_n, max_n):\n",
    "    max_results_per_city = max_n\n",
    "    res=[]\n",
    "    for city in set(['New+York', 'Chicago', 'San+Francisco', 'Austin', 'Seattle', \n",
    "    'Los+Angeles', 'Philadelphia', 'Atlanta', 'Dallas', 'Pittsburgh', \n",
    "    'Portland', 'Phoenix', 'Denver', 'Houston', 'Miami']):\n",
    "        for start in range(min_n, max_results_per_city, 100):\n",
    "            url = \"http://www.indeed.com/jobs?q=data+scientist+%2420%2C000&l={\"+city+\"}&start={\"+str(start)+\"}&limit=100\"\n",
    "            res.append(url)\n",
    "            # Grab the results from the request (as above)\n",
    "            # Append to the full set of results\n",
    "            pass\n",
    "    return res\n",
    "urls = get_URL(0,100)"
   ]
  },
  {
   "cell_type": "code",
   "execution_count": 135,
   "metadata": {
    "collapsed": false
   },
   "outputs": [
    {
     "data": {
      "text/plain": [
       "'$1000'"
      ]
     },
     "execution_count": 135,
     "metadata": {},
     "output_type": "execute_result"
    }
   ],
   "source": [
    "def slip_dollar(a):\n",
    "    a = '$' + a\n",
    "    return a\n",
    "slip_dollar(\"1000\")"
   ]
  },
  {
   "cell_type": "code",
   "execution_count": 136,
   "metadata": {
    "collapsed": false,
    "scrolled": true
   },
   "outputs": [],
   "source": [
    "new_df = pd.DataFrame(columns = ['title', 'company', 'location', 'salary', 'summary', 'ratings'])"
   ]
  },
  {
   "cell_type": "code",
   "execution_count": 137,
   "metadata": {
    "collapsed": false,
    "scrolled": true
   },
   "outputs": [],
   "source": [
    "for url in urls:\n",
    "    html = urllib2.urlopen(url).read()\n",
    "    soup = BeautifulSoup(html, \"html.parser\")\n",
    "    for job in soup.find_all('div', {\"class\":\" row result\"}):\n",
    "        try:\n",
    "            salary = job.find(\"td\", {\"class\":\"snip\"}).find('nobr').renderContents()\n",
    "        except:\n",
    "            salary = \"NA\"\n",
    "        if salary != \"NA\":\n",
    "            title = job.find(\"a\",{\"target\":\"_blank\"}).get(\"title\")\n",
    "            company = job.find(\"span\", {\"itemprop\":\"name\"}).getText()\n",
    "            company = company.replace(' ', '').replace(\"\\n\", \"\")\n",
    "            location = job.find(\"span\", {\"class\":\"location\"}).text.strip()\n",
    "            summary = job.find(\"span\", {\"class\":\"summary\"}).text.strip()\n",
    "            rating = job.find(\"span\", {\"class\":\"rating\"})\n",
    "            new_df.loc[len(new_df)] = [title, company, location, salary, summary, rating]"
   ]
  },
  {
   "cell_type": "markdown",
   "metadata": {},
   "source": [
    "## Number of unique companies, locations, and titles."
   ]
  },
  {
   "cell_type": "code",
   "execution_count": 138,
   "metadata": {
    "collapsed": false
   },
   "outputs": [
    {
     "data": {
      "text/plain": [
       "14"
      ]
     },
     "execution_count": 138,
     "metadata": {},
     "output_type": "execute_result"
    }
   ],
   "source": [
    "new_df.title.duplicated().sum()"
   ]
  },
  {
   "cell_type": "code",
   "execution_count": 139,
   "metadata": {
    "collapsed": false
   },
   "outputs": [
    {
     "data": {
      "text/plain": [
       "(100, 63, 143)"
      ]
     },
     "execution_count": 139,
     "metadata": {},
     "output_type": "execute_result"
    }
   ],
   "source": [
    "len(new_df.company.unique()), len(new_df.location.unique()), len(new_df.title.unique())"
   ]
  },
  {
   "cell_type": "code",
   "execution_count": 140,
   "metadata": {
    "collapsed": true
   },
   "outputs": [],
   "source": [
    "import pandas as pd"
   ]
  },
  {
   "cell_type": "markdown",
   "metadata": {},
   "source": [
    "## Cities ranked by number of postings"
   ]
  },
  {
   "cell_type": "code",
   "execution_count": 141,
   "metadata": {
    "collapsed": false
   },
   "outputs": [
    {
     "data": {
      "text/plain": [
       "11"
      ]
     },
     "execution_count": 141,
     "metadata": {},
     "output_type": "execute_result"
    }
   ],
   "source": [
    "len(new_df.location[new_df.location== 'Coral Gables, FL'].index)"
   ]
  },
  {
   "cell_type": "code",
   "execution_count": 142,
   "metadata": {
    "collapsed": true
   },
   "outputs": [],
   "source": [
    "def comma(num):\n",
    "    '''Add comma to every 3rd digit. Takes int or float and\n",
    "    returns string.'''\n",
    "    if type(num) == int:\n",
    "        return '{:,}'.format(num)\n",
    "    elif type(num) == float:\n",
    "        return '{:,.2f}'.format(num) # Rounds to 2 decimal places\n",
    "    else:\n",
    "        print(\"Need int or float as input to function comma()!\")\n",
    "        "
   ]
  },
  {
   "cell_type": "code",
   "execution_count": 143,
   "metadata": {
    "collapsed": false
   },
   "outputs": [],
   "source": [
    "split_city= new_df.location.str.split(' ', expand=True)"
   ]
  },
  {
   "cell_type": "code",
   "execution_count": 144,
   "metadata": {
    "collapsed": false,
    "scrolled": true
   },
   "outputs": [],
   "source": [
    "split_city = split_city.iloc[:, 0:2]\n",
    "split_city[0] = split_city[0].replace(',','')\n",
    "split_city[1] = split_city[1].replace(',','')"
   ]
  },
  {
   "cell_type": "code",
   "execution_count": 145,
   "metadata": {
    "collapsed": false
   },
   "outputs": [],
   "source": [
    "new_df.location = split_city[0].str.cat(split_city[1])"
   ]
  },
  {
   "cell_type": "code",
   "execution_count": 146,
   "metadata": {
    "collapsed": false
   },
   "outputs": [
    {
     "data": {
      "text/plain": [
       "array([u'Houston,TX', u'DeerPark,', u'Phoenix,AZ', u'Tempe,AZ',\n",
       "       u'Scottsdale,AZ', u'Chicago,IL', u'Northbrook,IL', u'SanFrancisco,',\n",
       "       u'SanRamon,', u'Oakland,CA', u'RedwoodCity,', u'NewYork,',\n",
       "       u'Manhattan,NY', u'Dallas,TX', u'Richardson,TX',\n",
       "       u'Dallas-FortWorth,', u'Irving,TX', u'Philadelphia,PA',\n",
       "       u'SpringHouse,', u'Radnor,PA', u'Denver,CO', u'Aurora,CO',\n",
       "       u'BuckleyAFB,', u'Boulder,CO', u'Englewood,CO', u'LosAngeles,',\n",
       "       u'RowlandHeights,', u'Pittsburgh,PA', u'CoralGables,',\n",
       "       u'MiamiLakes,', u'FortLauderdale,', u'Miami,FL', u'Atlanta,GA',\n",
       "       u'Seattle,WA', u'Bellevue,WA', u'Austin,TX', u'Leander,TX',\n",
       "       u'Portland,OR', u'Tualatin,OR', u'Beaverton,OR', u'Vancouver,WA'], dtype=object)"
      ]
     },
     "execution_count": 146,
     "metadata": {},
     "output_type": "execute_result"
    }
   ],
   "source": [
    "new_df.location.unique()"
   ]
  },
  {
   "cell_type": "code",
   "execution_count": 147,
   "metadata": {
    "collapsed": false,
    "scrolled": true
   },
   "outputs": [
    {
     "data": {
      "text/html": [
       "<div>\n",
       "<table border=\"1\" class=\"dataframe\">\n",
       "  <thead>\n",
       "    <tr style=\"text-align: right;\">\n",
       "      <th></th>\n",
       "      <th>company</th>\n",
       "      <th>salary</th>\n",
       "    </tr>\n",
       "    <tr>\n",
       "      <th>location</th>\n",
       "      <th></th>\n",
       "      <th></th>\n",
       "    </tr>\n",
       "  </thead>\n",
       "  <tbody>\n",
       "    <tr>\n",
       "      <th>Austin,TX</th>\n",
       "      <td>17</td>\n",
       "      <td>17</td>\n",
       "    </tr>\n",
       "    <tr>\n",
       "      <th>NewYork,</th>\n",
       "      <td>15</td>\n",
       "      <td>15</td>\n",
       "    </tr>\n",
       "    <tr>\n",
       "      <th>Atlanta,GA</th>\n",
       "      <td>12</td>\n",
       "      <td>12</td>\n",
       "    </tr>\n",
       "    <tr>\n",
       "      <th>Phoenix,AZ</th>\n",
       "      <td>11</td>\n",
       "      <td>11</td>\n",
       "    </tr>\n",
       "    <tr>\n",
       "      <th>CoralGables,</th>\n",
       "      <td>11</td>\n",
       "      <td>11</td>\n",
       "    </tr>\n",
       "    <tr>\n",
       "      <th>LosAngeles,</th>\n",
       "      <td>9</td>\n",
       "      <td>9</td>\n",
       "    </tr>\n",
       "    <tr>\n",
       "      <th>Houston,TX</th>\n",
       "      <td>7</td>\n",
       "      <td>7</td>\n",
       "    </tr>\n",
       "    <tr>\n",
       "      <th>Portland,OR</th>\n",
       "      <td>7</td>\n",
       "      <td>7</td>\n",
       "    </tr>\n",
       "    <tr>\n",
       "      <th>Denver,CO</th>\n",
       "      <td>7</td>\n",
       "      <td>7</td>\n",
       "    </tr>\n",
       "    <tr>\n",
       "      <th>Chicago,IL</th>\n",
       "      <td>6</td>\n",
       "      <td>6</td>\n",
       "    </tr>\n",
       "    <tr>\n",
       "      <th>Philadelphia,PA</th>\n",
       "      <td>6</td>\n",
       "      <td>6</td>\n",
       "    </tr>\n",
       "    <tr>\n",
       "      <th>Pittsburgh,PA</th>\n",
       "      <td>5</td>\n",
       "      <td>5</td>\n",
       "    </tr>\n",
       "    <tr>\n",
       "      <th>SanFrancisco,</th>\n",
       "      <td>4</td>\n",
       "      <td>4</td>\n",
       "    </tr>\n",
       "    <tr>\n",
       "      <th>Miami,FL</th>\n",
       "      <td>4</td>\n",
       "      <td>4</td>\n",
       "    </tr>\n",
       "    <tr>\n",
       "      <th>Tempe,AZ</th>\n",
       "      <td>3</td>\n",
       "      <td>3</td>\n",
       "    </tr>\n",
       "    <tr>\n",
       "      <th>Aurora,CO</th>\n",
       "      <td>3</td>\n",
       "      <td>3</td>\n",
       "    </tr>\n",
       "    <tr>\n",
       "      <th>Dallas,TX</th>\n",
       "      <td>3</td>\n",
       "      <td>3</td>\n",
       "    </tr>\n",
       "    <tr>\n",
       "      <th>Irving,TX</th>\n",
       "      <td>2</td>\n",
       "      <td>2</td>\n",
       "    </tr>\n",
       "    <tr>\n",
       "      <th>Seattle,WA</th>\n",
       "      <td>2</td>\n",
       "      <td>2</td>\n",
       "    </tr>\n",
       "    <tr>\n",
       "      <th>RowlandHeights,</th>\n",
       "      <td>2</td>\n",
       "      <td>2</td>\n",
       "    </tr>\n",
       "    <tr>\n",
       "      <th>FortLauderdale,</th>\n",
       "      <td>1</td>\n",
       "      <td>1</td>\n",
       "    </tr>\n",
       "    <tr>\n",
       "      <th>Radnor,PA</th>\n",
       "      <td>1</td>\n",
       "      <td>1</td>\n",
       "    </tr>\n",
       "    <tr>\n",
       "      <th>Tualatin,OR</th>\n",
       "      <td>1</td>\n",
       "      <td>1</td>\n",
       "    </tr>\n",
       "    <tr>\n",
       "      <th>SpringHouse,</th>\n",
       "      <td>1</td>\n",
       "      <td>1</td>\n",
       "    </tr>\n",
       "    <tr>\n",
       "      <th>Scottsdale,AZ</th>\n",
       "      <td>1</td>\n",
       "      <td>1</td>\n",
       "    </tr>\n",
       "    <tr>\n",
       "      <th>SanRamon,</th>\n",
       "      <td>1</td>\n",
       "      <td>1</td>\n",
       "    </tr>\n",
       "    <tr>\n",
       "      <th>Beaverton,OR</th>\n",
       "      <td>1</td>\n",
       "      <td>1</td>\n",
       "    </tr>\n",
       "    <tr>\n",
       "      <th>Richardson,TX</th>\n",
       "      <td>1</td>\n",
       "      <td>1</td>\n",
       "    </tr>\n",
       "    <tr>\n",
       "      <th>RedwoodCity,</th>\n",
       "      <td>1</td>\n",
       "      <td>1</td>\n",
       "    </tr>\n",
       "    <tr>\n",
       "      <th>Boulder,CO</th>\n",
       "      <td>1</td>\n",
       "      <td>1</td>\n",
       "    </tr>\n",
       "    <tr>\n",
       "      <th>Bellevue,WA</th>\n",
       "      <td>1</td>\n",
       "      <td>1</td>\n",
       "    </tr>\n",
       "    <tr>\n",
       "      <th>Englewood,CO</th>\n",
       "      <td>1</td>\n",
       "      <td>1</td>\n",
       "    </tr>\n",
       "    <tr>\n",
       "      <th>BuckleyAFB,</th>\n",
       "      <td>1</td>\n",
       "      <td>1</td>\n",
       "    </tr>\n",
       "    <tr>\n",
       "      <th>Oakland,CA</th>\n",
       "      <td>1</td>\n",
       "      <td>1</td>\n",
       "    </tr>\n",
       "    <tr>\n",
       "      <th>Northbrook,IL</th>\n",
       "      <td>1</td>\n",
       "      <td>1</td>\n",
       "    </tr>\n",
       "    <tr>\n",
       "      <th>Dallas-FortWorth,</th>\n",
       "      <td>1</td>\n",
       "      <td>1</td>\n",
       "    </tr>\n",
       "    <tr>\n",
       "      <th>MiamiLakes,</th>\n",
       "      <td>1</td>\n",
       "      <td>1</td>\n",
       "    </tr>\n",
       "    <tr>\n",
       "      <th>Manhattan,NY</th>\n",
       "      <td>1</td>\n",
       "      <td>1</td>\n",
       "    </tr>\n",
       "    <tr>\n",
       "      <th>DeerPark,</th>\n",
       "      <td>1</td>\n",
       "      <td>1</td>\n",
       "    </tr>\n",
       "    <tr>\n",
       "      <th>Leander,TX</th>\n",
       "      <td>1</td>\n",
       "      <td>1</td>\n",
       "    </tr>\n",
       "    <tr>\n",
       "      <th>Vancouver,WA</th>\n",
       "      <td>1</td>\n",
       "      <td>1</td>\n",
       "    </tr>\n",
       "  </tbody>\n",
       "</table>\n",
       "</div>"
      ],
      "text/plain": [
       "                   company  salary\n",
       "location                          \n",
       "Austin,TX               17      17\n",
       "NewYork,                15      15\n",
       "Atlanta,GA              12      12\n",
       "Phoenix,AZ              11      11\n",
       "CoralGables,            11      11\n",
       "LosAngeles,              9       9\n",
       "Houston,TX               7       7\n",
       "Portland,OR              7       7\n",
       "Denver,CO                7       7\n",
       "Chicago,IL               6       6\n",
       "Philadelphia,PA          6       6\n",
       "Pittsburgh,PA            5       5\n",
       "SanFrancisco,            4       4\n",
       "Miami,FL                 4       4\n",
       "Tempe,AZ                 3       3\n",
       "Aurora,CO                3       3\n",
       "Dallas,TX                3       3\n",
       "Irving,TX                2       2\n",
       "Seattle,WA               2       2\n",
       "RowlandHeights,          2       2\n",
       "FortLauderdale,          1       1\n",
       "Radnor,PA                1       1\n",
       "Tualatin,OR              1       1\n",
       "SpringHouse,             1       1\n",
       "Scottsdale,AZ            1       1\n",
       "SanRamon,                1       1\n",
       "Beaverton,OR             1       1\n",
       "Richardson,TX            1       1\n",
       "RedwoodCity,             1       1\n",
       "Boulder,CO               1       1\n",
       "Bellevue,WA              1       1\n",
       "Englewood,CO             1       1\n",
       "BuckleyAFB,              1       1\n",
       "Oakland,CA               1       1\n",
       "Northbrook,IL            1       1\n",
       "Dallas-FortWorth,        1       1\n",
       "MiamiLakes,              1       1\n",
       "Manhattan,NY             1       1\n",
       "DeerPark,                1       1\n",
       "Leander,TX               1       1\n",
       "Vancouver,WA             1       1"
      ]
     },
     "execution_count": 147,
     "metadata": {},
     "output_type": "execute_result"
    }
   ],
   "source": [
    "new_df[[\"company\", \"location\", \"salary\"]].groupby(\"location\").count().sort_values(by='salary', ascending = False)"
   ]
  },
  {
   "cell_type": "code",
   "execution_count": 148,
   "metadata": {
    "collapsed": false
   },
   "outputs": [
    {
     "data": {
      "text/plain": [
       "123"
      ]
     },
     "execution_count": 148,
     "metadata": {},
     "output_type": "execute_result"
    }
   ],
   "source": [
    "new_df.salary.str.contains('year').sum()"
   ]
  },
  {
   "cell_type": "code",
   "execution_count": 149,
   "metadata": {
    "collapsed": false
   },
   "outputs": [],
   "source": [
    "new_df = new_df[new_df.salary.str.contains('year')==True]\n",
    "new_df.salary = new_df.salary.str.replace(\"$\", \"\")"
   ]
  },
  {
   "cell_type": "code",
   "execution_count": 150,
   "metadata": {
    "collapsed": false
   },
   "outputs": [],
   "source": [
    "new_df.salary = new_df.salary.str.rstrip()\n",
    "new_df.salary = new_df.salary.str.replace(\" a year\", \"\")\n",
    "new_df[['sal1','sal2']]= new_df.salary.str.split('-', expand=True)\n",
    "new_df.salary = new_df['sal1']"
   ]
  },
  {
   "cell_type": "code",
   "execution_count": 151,
   "metadata": {
    "collapsed": false
   },
   "outputs": [],
   "source": [
    "new_df = new_df.drop(new_df[['sal1','sal2']], axis=1)\n"
   ]
  },
  {
   "cell_type": "code",
   "execution_count": 152,
   "metadata": {
    "collapsed": false
   },
   "outputs": [],
   "source": [
    "new_df.salary = new_df.salary.str.replace(',','')\n",
    "new_df.salary = new_df.salary.astype(float)"
   ]
  },
  {
   "cell_type": "markdown",
   "metadata": {},
   "source": [
    "## Titles ranked by pay"
   ]
  },
  {
   "cell_type": "code",
   "execution_count": 153,
   "metadata": {
    "collapsed": false
   },
   "outputs": [],
   "source": [
    "df_groupby_salary_title = new_df[['title','salary']].groupby('title', as_index=True).mean().sort_values(by='salary', ascending = False)"
   ]
  },
  {
   "cell_type": "code",
   "execution_count": 154,
   "metadata": {
    "collapsed": false
   },
   "outputs": [],
   "source": [
    "df_groupby_salary_title['salary_commas'] = df_groupby_salary_title['salary'].astype(int)\n",
    "df_groupby_salary_title['salary_commas'] = df_groupby_salary_title['salary_commas'].apply(comma)\n",
    "df_groupby_salary_title['salary_commas'] = df_groupby_salary_title['salary_commas'].apply(slip_dollar)"
   ]
  },
  {
   "cell_type": "code",
   "execution_count": 155,
   "metadata": {
    "collapsed": false
   },
   "outputs": [
    {
     "data": {
      "text/html": [
       "<div>\n",
       "<table border=\"1\" class=\"dataframe\">\n",
       "  <thead>\n",
       "    <tr style=\"text-align: right;\">\n",
       "      <th></th>\n",
       "      <th>salary</th>\n",
       "      <th>salary_commas</th>\n",
       "    </tr>\n",
       "    <tr>\n",
       "      <th>title</th>\n",
       "      <th></th>\n",
       "      <th></th>\n",
       "    </tr>\n",
       "  </thead>\n",
       "  <tbody>\n",
       "    <tr>\n",
       "      <th>C++ Software Engineer</th>\n",
       "      <td>250000.0</td>\n",
       "      <td>$250,000</td>\n",
       "    </tr>\n",
       "    <tr>\n",
       "      <th>Sr. Director, Statistical Innovation</th>\n",
       "      <td>220000.0</td>\n",
       "      <td>$220,000</td>\n",
       "    </tr>\n",
       "    <tr>\n",
       "      <th>Quantitative Researcher – Machine Learning</th>\n",
       "      <td>200000.0</td>\n",
       "      <td>$200,000</td>\n",
       "    </tr>\n",
       "    <tr>\n",
       "      <th>Data Science Director</th>\n",
       "      <td>180000.0</td>\n",
       "      <td>$180,000</td>\n",
       "    </tr>\n",
       "    <tr>\n",
       "      <th>Senior Data Scientist - Security Experience is Huge</th>\n",
       "      <td>170000.0</td>\n",
       "      <td>$170,000</td>\n",
       "    </tr>\n",
       "    <tr>\n",
       "      <th>Program Manager - Data Science - New York City - $165,000</th>\n",
       "      <td>165000.0</td>\n",
       "      <td>$165,000</td>\n",
       "    </tr>\n",
       "    <tr>\n",
       "      <th>Director of Data Science</th>\n",
       "      <td>160000.0</td>\n",
       "      <td>$160,000</td>\n",
       "    </tr>\n",
       "    <tr>\n",
       "      <th>Senior Business Systems Architect (Hadoop Developer)</th>\n",
       "      <td>155000.0</td>\n",
       "      <td>$155,000</td>\n",
       "    </tr>\n",
       "    <tr>\n",
       "      <th>Data Services Engineer</th>\n",
       "      <td>150000.0</td>\n",
       "      <td>$150,000</td>\n",
       "    </tr>\n",
       "    <tr>\n",
       "      <th>Quantitative Risk Analyst</th>\n",
       "      <td>150000.0</td>\n",
       "      <td>$150,000</td>\n",
       "    </tr>\n",
       "  </tbody>\n",
       "</table>\n",
       "</div>"
      ],
      "text/plain": [
       "                                                      salary salary_commas\n",
       "title                                                                     \n",
       "C++ Software Engineer                               250000.0      $250,000\n",
       "Sr. Director, Statistical Innovation                220000.0      $220,000\n",
       "Quantitative Researcher – Machine Learning          200000.0      $200,000\n",
       "Data Science Director                               180000.0      $180,000\n",
       "Senior Data Scientist - Security Experience is ...  170000.0      $170,000\n",
       "Program Manager - Data Science - New York City ...  165000.0      $165,000\n",
       "Director of Data Science                            160000.0      $160,000\n",
       "Senior Business Systems Architect (Hadoop Devel...  155000.0      $155,000\n",
       "Data Services Engineer                              150000.0      $150,000\n",
       "Quantitative Risk Analyst                           150000.0      $150,000"
      ]
     },
     "execution_count": 155,
     "metadata": {},
     "output_type": "execute_result"
    }
   ],
   "source": [
    "df_groupby_salary_title.head(10)"
   ]
  },
  {
   "cell_type": "code",
   "execution_count": 156,
   "metadata": {
    "collapsed": false
   },
   "outputs": [
    {
     "data": {
      "text/html": [
       "<div>\n",
       "<table border=\"1\" class=\"dataframe\">\n",
       "  <thead>\n",
       "    <tr style=\"text-align: right;\">\n",
       "      <th></th>\n",
       "      <th>salary</th>\n",
       "      <th>salary_commas</th>\n",
       "    </tr>\n",
       "    <tr>\n",
       "      <th>title</th>\n",
       "      <th></th>\n",
       "      <th></th>\n",
       "    </tr>\n",
       "  </thead>\n",
       "  <tbody>\n",
       "    <tr>\n",
       "      <th>Financial Analyst (Clinical Research Revenue)</th>\n",
       "      <td>38750.0</td>\n",
       "      <td>$38,750</td>\n",
       "    </tr>\n",
       "    <tr>\n",
       "      <th>(Temporary) Research Analyst</th>\n",
       "      <td>38750.0</td>\n",
       "      <td>$38,750</td>\n",
       "    </tr>\n",
       "    <tr>\n",
       "      <th>SENIOR STATISTICAL CLERK</th>\n",
       "      <td>36339.0</td>\n",
       "      <td>$36,339</td>\n",
       "    </tr>\n",
       "    <tr>\n",
       "      <th>Food Scientist: Chemistry &amp; Formulations</th>\n",
       "      <td>35000.0</td>\n",
       "      <td>$35,000</td>\n",
       "    </tr>\n",
       "    <tr>\n",
       "      <th>Research and Investigation Analyst</th>\n",
       "      <td>35000.0</td>\n",
       "      <td>$35,000</td>\n",
       "    </tr>\n",
       "    <tr>\n",
       "      <th>Statistical Programmer</th>\n",
       "      <td>32900.0</td>\n",
       "      <td>$32,900</td>\n",
       "    </tr>\n",
       "    <tr>\n",
       "      <th>Program Statistician</th>\n",
       "      <td>30732.0</td>\n",
       "      <td>$30,732</td>\n",
       "    </tr>\n",
       "    <tr>\n",
       "      <th>Research Technician</th>\n",
       "      <td>30732.0</td>\n",
       "      <td>$30,732</td>\n",
       "    </tr>\n",
       "    <tr>\n",
       "      <th>(Temporary) Research Laboratory Technician</th>\n",
       "      <td>27400.0</td>\n",
       "      <td>$27,400</td>\n",
       "    </tr>\n",
       "    <tr>\n",
       "      <th>Laboratory Technician</th>\n",
       "      <td>23868.0</td>\n",
       "      <td>$23,868</td>\n",
       "    </tr>\n",
       "  </tbody>\n",
       "</table>\n",
       "</div>"
      ],
      "text/plain": [
       "                                                salary salary_commas\n",
       "title                                                               \n",
       "Financial Analyst (Clinical Research Revenue)  38750.0       $38,750\n",
       "(Temporary) Research Analyst                   38750.0       $38,750\n",
       "SENIOR STATISTICAL CLERK                       36339.0       $36,339\n",
       "Food Scientist: Chemistry & Formulations       35000.0       $35,000\n",
       "Research and Investigation Analyst             35000.0       $35,000\n",
       "Statistical Programmer                         32900.0       $32,900\n",
       "Program Statistician                           30732.0       $30,732\n",
       "Research Technician                            30732.0       $30,732\n",
       "(Temporary) Research Laboratory Technician     27400.0       $27,400\n",
       "Laboratory Technician                          23868.0       $23,868"
      ]
     },
     "execution_count": 156,
     "metadata": {},
     "output_type": "execute_result"
    }
   ],
   "source": [
    "df_groupby_salary_title.tail(10)"
   ]
  },
  {
   "cell_type": "markdown",
   "metadata": {},
   "source": [
    "## Companies rank by pay"
   ]
  },
  {
   "cell_type": "code",
   "execution_count": 157,
   "metadata": {
    "collapsed": false,
    "scrolled": true
   },
   "outputs": [],
   "source": [
    "df_groupby_salary_company = new_df[['company','salary']].groupby('company', as_index=True).mean().sort_values(by='salary', ascending = False)"
   ]
  },
  {
   "cell_type": "code",
   "execution_count": 158,
   "metadata": {
    "collapsed": false
   },
   "outputs": [],
   "source": [
    "df_groupby_salary_company['salary_commas'] = df_groupby_salary_company['salary'].astype(int)\n",
    "df_groupby_salary_company['salary_commas'] = df_groupby_salary_company['salary_commas'].apply(comma)\n",
    "df_groupby_salary_company['salary_commas'] = df_groupby_salary_company['salary_commas'].apply(slip_dollar)"
   ]
  },
  {
   "cell_type": "code",
   "execution_count": 159,
   "metadata": {
    "collapsed": false
   },
   "outputs": [
    {
     "data": {
      "text/html": [
       "<div>\n",
       "<table border=\"1\" class=\"dataframe\">\n",
       "  <thead>\n",
       "    <tr style=\"text-align: right;\">\n",
       "      <th></th>\n",
       "      <th>salary</th>\n",
       "      <th>salary_commas</th>\n",
       "    </tr>\n",
       "    <tr>\n",
       "      <th>company</th>\n",
       "      <th></th>\n",
       "      <th></th>\n",
       "    </tr>\n",
       "  </thead>\n",
       "  <tbody>\n",
       "    <tr>\n",
       "      <th>Rekruiters</th>\n",
       "      <td>250000.0</td>\n",
       "      <td>$250,000</td>\n",
       "    </tr>\n",
       "    <tr>\n",
       "      <th>PenfieldSearchPartners</th>\n",
       "      <td>220000.0</td>\n",
       "      <td>$220,000</td>\n",
       "    </tr>\n",
       "    <tr>\n",
       "      <th>Harnham</th>\n",
       "      <td>200000.0</td>\n",
       "      <td>$200,000</td>\n",
       "    </tr>\n",
       "    <tr>\n",
       "      <th>LT</th>\n",
       "      <td>180000.0</td>\n",
       "      <td>$180,000</td>\n",
       "    </tr>\n",
       "    <tr>\n",
       "      <th>OscarTechnology</th>\n",
       "      <td>180000.0</td>\n",
       "      <td>$180,000</td>\n",
       "    </tr>\n",
       "    <tr>\n",
       "      <th>ElevateRecruitingGroup</th>\n",
       "      <td>170000.0</td>\n",
       "      <td>$170,000</td>\n",
       "    </tr>\n",
       "    <tr>\n",
       "      <th>OliverJamesAssociates</th>\n",
       "      <td>165000.0</td>\n",
       "      <td>$165,000</td>\n",
       "    </tr>\n",
       "    <tr>\n",
       "      <th>Wolfe&amp;HuntsmanLLC</th>\n",
       "      <td>155000.0</td>\n",
       "      <td>$155,000</td>\n",
       "    </tr>\n",
       "    <tr>\n",
       "      <th>SearchBankingJobs</th>\n",
       "      <td>150000.0</td>\n",
       "      <td>$150,000</td>\n",
       "    </tr>\n",
       "    <tr>\n",
       "      <th>CareerEvolutions</th>\n",
       "      <td>150000.0</td>\n",
       "      <td>$150,000</td>\n",
       "    </tr>\n",
       "  </tbody>\n",
       "</table>\n",
       "</div>"
      ],
      "text/plain": [
       "                          salary salary_commas\n",
       "company                                       \n",
       "Rekruiters              250000.0      $250,000\n",
       "PenfieldSearchPartners  220000.0      $220,000\n",
       "Harnham                 200000.0      $200,000\n",
       "LT                      180000.0      $180,000\n",
       "OscarTechnology         180000.0      $180,000\n",
       "ElevateRecruitingGroup  170000.0      $170,000\n",
       "OliverJamesAssociates   165000.0      $165,000\n",
       "Wolfe&HuntsmanLLC       155000.0      $155,000\n",
       "SearchBankingJobs       150000.0      $150,000\n",
       "CareerEvolutions        150000.0      $150,000"
      ]
     },
     "execution_count": 159,
     "metadata": {},
     "output_type": "execute_result"
    }
   ],
   "source": [
    "df_groupby_salary_company.head(10)"
   ]
  },
  {
   "cell_type": "code",
   "execution_count": 160,
   "metadata": {
    "collapsed": false
   },
   "outputs": [
    {
     "data": {
      "text/html": [
       "<div>\n",
       "<table border=\"1\" class=\"dataframe\">\n",
       "  <thead>\n",
       "    <tr style=\"text-align: right;\">\n",
       "      <th></th>\n",
       "      <th>salary</th>\n",
       "      <th>salary_commas</th>\n",
       "    </tr>\n",
       "    <tr>\n",
       "      <th>company</th>\n",
       "      <th></th>\n",
       "      <th></th>\n",
       "    </tr>\n",
       "  </thead>\n",
       "  <tbody>\n",
       "    <tr>\n",
       "      <th>UniversityofTexasatDallas</th>\n",
       "      <td>46000.0</td>\n",
       "      <td>$46,000</td>\n",
       "    </tr>\n",
       "    <tr>\n",
       "      <th>BoyScoutsofAmerica</th>\n",
       "      <td>45000.0</td>\n",
       "      <td>$45,000</td>\n",
       "    </tr>\n",
       "    <tr>\n",
       "      <th>CascadeInsights</th>\n",
       "      <td>45000.0</td>\n",
       "      <td>$45,000</td>\n",
       "    </tr>\n",
       "    <tr>\n",
       "      <th>JECompliance</th>\n",
       "      <td>45000.0</td>\n",
       "      <td>$45,000</td>\n",
       "    </tr>\n",
       "    <tr>\n",
       "      <th>MaricopaCounty,AZ</th>\n",
       "      <td>44616.0</td>\n",
       "      <td>$44,616</td>\n",
       "    </tr>\n",
       "    <tr>\n",
       "      <th>MountainLtd.</th>\n",
       "      <td>42500.0</td>\n",
       "      <td>$42,500</td>\n",
       "    </tr>\n",
       "    <tr>\n",
       "      <th>CommunityCollegeofAurora</th>\n",
       "      <td>40000.0</td>\n",
       "      <td>$40,000</td>\n",
       "    </tr>\n",
       "    <tr>\n",
       "      <th>LaurenEnterprises</th>\n",
       "      <td>35000.0</td>\n",
       "      <td>$35,000</td>\n",
       "    </tr>\n",
       "    <tr>\n",
       "      <th>G2WebServices,LLC</th>\n",
       "      <td>35000.0</td>\n",
       "      <td>$35,000</td>\n",
       "    </tr>\n",
       "    <tr>\n",
       "      <th>TheUniversityofPittsburgh</th>\n",
       "      <td>31356.0</td>\n",
       "      <td>$31,356</td>\n",
       "    </tr>\n",
       "  </tbody>\n",
       "</table>\n",
       "</div>"
      ],
      "text/plain": [
       "                            salary salary_commas\n",
       "company                                         \n",
       "UniversityofTexasatDallas  46000.0       $46,000\n",
       "BoyScoutsofAmerica         45000.0       $45,000\n",
       "CascadeInsights            45000.0       $45,000\n",
       "JECompliance               45000.0       $45,000\n",
       "MaricopaCounty,AZ          44616.0       $44,616\n",
       "MountainLtd.               42500.0       $42,500\n",
       "CommunityCollegeofAurora   40000.0       $40,000\n",
       "LaurenEnterprises          35000.0       $35,000\n",
       "G2WebServices,LLC          35000.0       $35,000\n",
       "TheUniversityofPittsburgh  31356.0       $31,356"
      ]
     },
     "execution_count": 160,
     "metadata": {},
     "output_type": "execute_result"
    }
   ],
   "source": [
    "df_groupby_salary_company.tail(10)"
   ]
  },
  {
   "cell_type": "markdown",
   "metadata": {},
   "source": [
    "## Locations Ranked by Pay"
   ]
  },
  {
   "cell_type": "code",
   "execution_count": 161,
   "metadata": {
    "collapsed": true
   },
   "outputs": [],
   "source": [
    "df_groupby_salary_location = new_df[['location','salary']].groupby('location', as_index=True).mean().sort_values('salary', ascending=False)"
   ]
  },
  {
   "cell_type": "code",
   "execution_count": 162,
   "metadata": {
    "collapsed": true
   },
   "outputs": [],
   "source": [
    "df_groupby_salary_location['salary_commas'] = df_groupby_salary_location['salary'].astype(int)\n",
    "df_groupby_salary_location['salary_commas'] = df_groupby_salary_location['salary_commas'].apply(comma)\n",
    "df_groupby_salary_location['salary_commas'] = df_groupby_salary_location['salary_commas'].apply(slip_dollar)"
   ]
  },
  {
   "cell_type": "code",
   "execution_count": 163,
   "metadata": {
    "collapsed": false
   },
   "outputs": [
    {
     "data": {
      "text/html": [
       "<div>\n",
       "<table border=\"1\" class=\"dataframe\">\n",
       "  <thead>\n",
       "    <tr style=\"text-align: right;\">\n",
       "      <th></th>\n",
       "      <th>salary</th>\n",
       "      <th>salary_commas</th>\n",
       "    </tr>\n",
       "    <tr>\n",
       "      <th>location</th>\n",
       "      <th></th>\n",
       "      <th></th>\n",
       "    </tr>\n",
       "  </thead>\n",
       "  <tbody>\n",
       "    <tr>\n",
       "      <th>Dallas-FortWorth,</th>\n",
       "      <td>180000.000000</td>\n",
       "      <td>$180,000</td>\n",
       "    </tr>\n",
       "    <tr>\n",
       "      <th>RedwoodCity,</th>\n",
       "      <td>170000.000000</td>\n",
       "      <td>$170,000</td>\n",
       "    </tr>\n",
       "    <tr>\n",
       "      <th>SanFrancisco,</th>\n",
       "      <td>140000.000000</td>\n",
       "      <td>$140,000</td>\n",
       "    </tr>\n",
       "    <tr>\n",
       "      <th>Chicago,IL</th>\n",
       "      <td>127500.000000</td>\n",
       "      <td>$127,500</td>\n",
       "    </tr>\n",
       "    <tr>\n",
       "      <th>NewYork,</th>\n",
       "      <td>125320.230769</td>\n",
       "      <td>$125,320</td>\n",
       "    </tr>\n",
       "    <tr>\n",
       "      <th>Philadelphia,PA</th>\n",
       "      <td>120500.000000</td>\n",
       "      <td>$120,500</td>\n",
       "    </tr>\n",
       "    <tr>\n",
       "      <th>Dallas,TX</th>\n",
       "      <td>115000.000000</td>\n",
       "      <td>$115,000</td>\n",
       "    </tr>\n",
       "    <tr>\n",
       "      <th>Houston,TX</th>\n",
       "      <td>109285.714286</td>\n",
       "      <td>$109,285</td>\n",
       "    </tr>\n",
       "    <tr>\n",
       "      <th>Boulder,CO</th>\n",
       "      <td>100000.000000</td>\n",
       "      <td>$100,000</td>\n",
       "    </tr>\n",
       "    <tr>\n",
       "      <th>Radnor,PA</th>\n",
       "      <td>100000.000000</td>\n",
       "      <td>$100,000</td>\n",
       "    </tr>\n",
       "  </tbody>\n",
       "</table>\n",
       "</div>"
      ],
      "text/plain": [
       "                          salary salary_commas\n",
       "location                                      \n",
       "Dallas-FortWorth,  180000.000000      $180,000\n",
       "RedwoodCity,       170000.000000      $170,000\n",
       "SanFrancisco,      140000.000000      $140,000\n",
       "Chicago,IL         127500.000000      $127,500\n",
       "NewYork,           125320.230769      $125,320\n",
       "Philadelphia,PA    120500.000000      $120,500\n",
       "Dallas,TX          115000.000000      $115,000\n",
       "Houston,TX         109285.714286      $109,285\n",
       "Boulder,CO         100000.000000      $100,000\n",
       "Radnor,PA          100000.000000      $100,000"
      ]
     },
     "execution_count": 163,
     "metadata": {},
     "output_type": "execute_result"
    }
   ],
   "source": [
    "df_groupby_salary_location.head(10)"
   ]
  },
  {
   "cell_type": "code",
   "execution_count": 164,
   "metadata": {
    "collapsed": false
   },
   "outputs": [
    {
     "data": {
      "text/html": [
       "<div>\n",
       "<table border=\"1\" class=\"dataframe\">\n",
       "  <thead>\n",
       "    <tr style=\"text-align: right;\">\n",
       "      <th></th>\n",
       "      <th>salary</th>\n",
       "      <th>salary_commas</th>\n",
       "    </tr>\n",
       "    <tr>\n",
       "      <th>location</th>\n",
       "      <th></th>\n",
       "      <th></th>\n",
       "    </tr>\n",
       "  </thead>\n",
       "  <tbody>\n",
       "    <tr>\n",
       "      <th>Dallas-FortWorth,</th>\n",
       "      <td>180000.000000</td>\n",
       "      <td>$180,000</td>\n",
       "    </tr>\n",
       "    <tr>\n",
       "      <th>RedwoodCity,</th>\n",
       "      <td>170000.000000</td>\n",
       "      <td>$170,000</td>\n",
       "    </tr>\n",
       "    <tr>\n",
       "      <th>SanFrancisco,</th>\n",
       "      <td>140000.000000</td>\n",
       "      <td>$140,000</td>\n",
       "    </tr>\n",
       "    <tr>\n",
       "      <th>Chicago,IL</th>\n",
       "      <td>127500.000000</td>\n",
       "      <td>$127,500</td>\n",
       "    </tr>\n",
       "    <tr>\n",
       "      <th>NewYork,</th>\n",
       "      <td>125320.230769</td>\n",
       "      <td>$125,320</td>\n",
       "    </tr>\n",
       "    <tr>\n",
       "      <th>Philadelphia,PA</th>\n",
       "      <td>120500.000000</td>\n",
       "      <td>$120,500</td>\n",
       "    </tr>\n",
       "    <tr>\n",
       "      <th>Dallas,TX</th>\n",
       "      <td>115000.000000</td>\n",
       "      <td>$115,000</td>\n",
       "    </tr>\n",
       "    <tr>\n",
       "      <th>Houston,TX</th>\n",
       "      <td>109285.714286</td>\n",
       "      <td>$109,285</td>\n",
       "    </tr>\n",
       "    <tr>\n",
       "      <th>Boulder,CO</th>\n",
       "      <td>100000.000000</td>\n",
       "      <td>$100,000</td>\n",
       "    </tr>\n",
       "    <tr>\n",
       "      <th>Radnor,PA</th>\n",
       "      <td>100000.000000</td>\n",
       "      <td>$100,000</td>\n",
       "    </tr>\n",
       "    <tr>\n",
       "      <th>Beaverton,OR</th>\n",
       "      <td>100000.000000</td>\n",
       "      <td>$100,000</td>\n",
       "    </tr>\n",
       "    <tr>\n",
       "      <th>LosAngeles,</th>\n",
       "      <td>89916.714286</td>\n",
       "      <td>$89,916</td>\n",
       "    </tr>\n",
       "    <tr>\n",
       "      <th>Leander,TX</th>\n",
       "      <td>85000.000000</td>\n",
       "      <td>$85,000</td>\n",
       "    </tr>\n",
       "    <tr>\n",
       "      <th>Englewood,CO</th>\n",
       "      <td>84900.000000</td>\n",
       "      <td>$84,900</td>\n",
       "    </tr>\n",
       "    <tr>\n",
       "      <th>Oakland,CA</th>\n",
       "      <td>84302.000000</td>\n",
       "      <td>$84,302</td>\n",
       "    </tr>\n",
       "    <tr>\n",
       "      <th>Phoenix,AZ</th>\n",
       "      <td>83223.400000</td>\n",
       "      <td>$83,223</td>\n",
       "    </tr>\n",
       "    <tr>\n",
       "      <th>Atlanta,GA</th>\n",
       "      <td>81907.500000</td>\n",
       "      <td>$81,907</td>\n",
       "    </tr>\n",
       "    <tr>\n",
       "      <th>Austin,TX</th>\n",
       "      <td>81250.000000</td>\n",
       "      <td>$81,250</td>\n",
       "    </tr>\n",
       "    <tr>\n",
       "      <th>MiamiLakes,</th>\n",
       "      <td>80000.000000</td>\n",
       "      <td>$80,000</td>\n",
       "    </tr>\n",
       "    <tr>\n",
       "      <th>Manhattan,NY</th>\n",
       "      <td>68239.000000</td>\n",
       "      <td>$68,239</td>\n",
       "    </tr>\n",
       "    <tr>\n",
       "      <th>Miami,FL</th>\n",
       "      <td>66666.666667</td>\n",
       "      <td>$66,666</td>\n",
       "    </tr>\n",
       "    <tr>\n",
       "      <th>Denver,CO</th>\n",
       "      <td>66403.166667</td>\n",
       "      <td>$66,403</td>\n",
       "    </tr>\n",
       "    <tr>\n",
       "      <th>BuckleyAFB,</th>\n",
       "      <td>63691.000000</td>\n",
       "      <td>$63,691</td>\n",
       "    </tr>\n",
       "    <tr>\n",
       "      <th>SpringHouse,</th>\n",
       "      <td>60000.000000</td>\n",
       "      <td>$60,000</td>\n",
       "    </tr>\n",
       "    <tr>\n",
       "      <th>Portland,OR</th>\n",
       "      <td>59625.166667</td>\n",
       "      <td>$59,625</td>\n",
       "    </tr>\n",
       "    <tr>\n",
       "      <th>RowlandHeights,</th>\n",
       "      <td>50000.000000</td>\n",
       "      <td>$50,000</td>\n",
       "    </tr>\n",
       "    <tr>\n",
       "      <th>Scottsdale,AZ</th>\n",
       "      <td>50000.000000</td>\n",
       "      <td>$50,000</td>\n",
       "    </tr>\n",
       "    <tr>\n",
       "      <th>Seattle,WA</th>\n",
       "      <td>50000.000000</td>\n",
       "      <td>$50,000</td>\n",
       "    </tr>\n",
       "    <tr>\n",
       "      <th>Tempe,AZ</th>\n",
       "      <td>48738.000000</td>\n",
       "      <td>$48,738</td>\n",
       "    </tr>\n",
       "    <tr>\n",
       "      <th>CoralGables,</th>\n",
       "      <td>46700.000000</td>\n",
       "      <td>$46,700</td>\n",
       "    </tr>\n",
       "    <tr>\n",
       "      <th>Aurora,CO</th>\n",
       "      <td>46666.666667</td>\n",
       "      <td>$46,666</td>\n",
       "    </tr>\n",
       "    <tr>\n",
       "      <th>Richardson,TX</th>\n",
       "      <td>46000.000000</td>\n",
       "      <td>$46,000</td>\n",
       "    </tr>\n",
       "    <tr>\n",
       "      <th>Irving,TX</th>\n",
       "      <td>45000.000000</td>\n",
       "      <td>$45,000</td>\n",
       "    </tr>\n",
       "    <tr>\n",
       "      <th>Pittsburgh,PA</th>\n",
       "      <td>35684.800000</td>\n",
       "      <td>$35,684</td>\n",
       "    </tr>\n",
       "    <tr>\n",
       "      <th>Bellevue,WA</th>\n",
       "      <td>35000.000000</td>\n",
       "      <td>$35,000</td>\n",
       "    </tr>\n",
       "  </tbody>\n",
       "</table>\n",
       "</div>"
      ],
      "text/plain": [
       "                          salary salary_commas\n",
       "location                                      \n",
       "Dallas-FortWorth,  180000.000000      $180,000\n",
       "RedwoodCity,       170000.000000      $170,000\n",
       "SanFrancisco,      140000.000000      $140,000\n",
       "Chicago,IL         127500.000000      $127,500\n",
       "NewYork,           125320.230769      $125,320\n",
       "Philadelphia,PA    120500.000000      $120,500\n",
       "Dallas,TX          115000.000000      $115,000\n",
       "Houston,TX         109285.714286      $109,285\n",
       "Boulder,CO         100000.000000      $100,000\n",
       "Radnor,PA          100000.000000      $100,000\n",
       "Beaverton,OR       100000.000000      $100,000\n",
       "LosAngeles,         89916.714286       $89,916\n",
       "Leander,TX          85000.000000       $85,000\n",
       "Englewood,CO        84900.000000       $84,900\n",
       "Oakland,CA          84302.000000       $84,302\n",
       "Phoenix,AZ          83223.400000       $83,223\n",
       "Atlanta,GA          81907.500000       $81,907\n",
       "Austin,TX           81250.000000       $81,250\n",
       "MiamiLakes,         80000.000000       $80,000\n",
       "Manhattan,NY        68239.000000       $68,239\n",
       "Miami,FL            66666.666667       $66,666\n",
       "Denver,CO           66403.166667       $66,403\n",
       "BuckleyAFB,         63691.000000       $63,691\n",
       "SpringHouse,        60000.000000       $60,000\n",
       "Portland,OR         59625.166667       $59,625\n",
       "RowlandHeights,     50000.000000       $50,000\n",
       "Scottsdale,AZ       50000.000000       $50,000\n",
       "Seattle,WA          50000.000000       $50,000\n",
       "Tempe,AZ            48738.000000       $48,738\n",
       "CoralGables,        46700.000000       $46,700\n",
       "Aurora,CO           46666.666667       $46,666\n",
       "Richardson,TX       46000.000000       $46,000\n",
       "Irving,TX           45000.000000       $45,000\n",
       "Pittsburgh,PA       35684.800000       $35,684\n",
       "Bellevue,WA         35000.000000       $35,000"
      ]
     },
     "execution_count": 164,
     "metadata": {},
     "output_type": "execute_result"
    }
   ],
   "source": [
    "df_groupby_salary_location#.tail(10)"
   ]
  },
  {
   "cell_type": "code",
   "execution_count": 165,
   "metadata": {
    "collapsed": true
   },
   "outputs": [],
   "source": [
    "import matplotlib.pyplot as plt\n",
    "%matplotlib inline"
   ]
  },
  {
   "cell_type": "code",
   "execution_count": 166,
   "metadata": {
    "collapsed": true
   },
   "outputs": [],
   "source": [
    "from matplotlib.ticker import FuncFormatter"
   ]
  },
  {
   "cell_type": "code",
   "execution_count": 167,
   "metadata": {
    "collapsed": true
   },
   "outputs": [],
   "source": [
    "import matplotlib as mlb"
   ]
  },
  {
   "cell_type": "code",
   "execution_count": 168,
   "metadata": {
    "collapsed": false
   },
   "outputs": [
    {
     "data": {
      "text/plain": [
       "11.090536506409418"
      ]
     },
     "execution_count": 168,
     "metadata": {},
     "output_type": "execute_result"
    }
   ],
   "source": [
    "len(new_df.salary.index)**0.5"
   ]
  },
  {
   "cell_type": "code",
   "execution_count": 169,
   "metadata": {
    "collapsed": false
   },
   "outputs": [
    {
     "data": {
      "image/png": "[encoded data removed]",
      "text/plain": [
       "<matplotlib.figure.Figure at 0x2629b080>"
      ]
     },
     "metadata": {},
     "output_type": "display_data"
    }
   ],
   "source": [
    "def millions(x, pos):\n",
    "    'The two args are the value and tick position'\n",
    "    return '$%1.1fM' % (x*1e-6)\n",
    "formage = [i for i in range(50000,300000, 50000)]\n",
    "formatter = FuncFormatter(millions)\n",
    "\n",
    "fig, ax = plt.subplots()\n",
    "plt.hist(new_df.salary, bins=15)\n",
    "fmt = '${x:,.0f}'\n",
    "tick = mlb.ticker.StrMethodFormatter(fmt)\n",
    "ax.xaxis.set_major_formatter(tick) \n",
    "plt.title(\"Distribution of Data Science Salaries\")\n",
    "# fig.savefig('hist_salaries_titled.pdf')\n",
    "plt.show()"
   ]
  },
  {
   "cell_type": "code",
   "execution_count": 170,
   "metadata": {
    "collapsed": false
   },
   "outputs": [
    {
     "data": {
      "image/png": "[encoded data removed]",
      "text/plain": [
       "<matplotlib.figure.Figure at 0x22921eb8>"
      ]
     },
     "metadata": {},
     "output_type": "display_data"
    }
   ],
   "source": [
    "fig, ax = plt.subplots()\n",
    "plt.boxplot(new_df.salary, showmeans=True, vert=False, patch_artist=True, showbox=True)\n",
    "fmt = '${x:,.0f}'\n",
    "tick = mlb.ticker.StrMethodFormatter(fmt)\n",
    "ax.xaxis.set_major_formatter(tick) \n",
    "plt.xlim(xmin = 0, xmax = 150000)\n",
    "plt.title(\"Boxplot Distribution of Data Science Salaries\")\n",
    "# fig.savefig('boxplot_salaries.pdf')\n",
    "plt.show()"
   ]
  },
  {
   "cell_type": "code",
   "execution_count": 171,
   "metadata": {
    "collapsed": false
   },
   "outputs": [],
   "source": [
    "# from pylab import figure, axes, pie, title, show\n",
    "# plt.savefig('box_salaries.png', bbox_inches='tight')"
   ]
  },
  {
   "cell_type": "markdown",
   "metadata": {
    "collapsed": false,
    "focus": false,
    "id": "43e71edd-210e-42b1-9336-70a931f048af"
   },
   "source": [
    "### Save your results as a CSV"
   ]
  },
  {
   "cell_type": "code",
   "execution_count": 172,
   "metadata": {
    "collapsed": false,
    "focus": false,
    "id": "783fd153-28ac-47ab-bfca-27e7c1de95b4"
   },
   "outputs": [],
   "source": [
    "# new_df_csv = new_df.to_csv('Data Science Yearly Salaries Indeed.csv', encoding='utf-8')"
   ]
  },
  {
   "cell_type": "code",
   "execution_count": 173,
   "metadata": {
    "collapsed": false
   },
   "outputs": [],
   "source": [
    "# new_df_multi_csv = new_df_multi.to_csv('Multi Indexed Data Science Salaries.csv', encoding='utf-8')"
   ]
  },
  {
   "cell_type": "markdown",
   "metadata": {
    "focus": false,
    "id": "04563b69-f7b6-466f-9d65-fc62c9ddee6a"
   },
   "source": [
    "## Predicting salaries using Logistic Regression"
   ]
  },
  {
   "cell_type": "markdown",
   "metadata": {
    "focus": false,
    "id": "243e949e-2742-40af-872e-fec475fd306c"
   },
   "source": [
    "#### Load in the the data of scraped salaries"
   ]
  },
  {
   "cell_type": "code",
   "execution_count": 174,
   "metadata": {
    "collapsed": false
   },
   "outputs": [],
   "source": [
    "new_df_multi = new_df.set_index(['location', 'company'])"
   ]
  },
  {
   "cell_type": "code",
   "execution_count": 175,
   "metadata": {
    "collapsed": false
   },
   "outputs": [],
   "source": [
    "new_df_multi['salary_commas'] = new_df['salary'].astype(str)\n",
    "new_df_multi['salary_commas'] = new_df_multi['salary'].apply(comma)\n",
    "# new_df_multi['salary_commas'] = new_df['salary_commas'].apply(slip_dollar)"
   ]
  },
  {
   "cell_type": "code",
   "execution_count": 176,
   "metadata": {
    "collapsed": false
   },
   "outputs": [],
   "source": [
    "new_df_multi['salary_commas']= new_df_multi['salary_commas'].apply(slip_dollar)"
   ]
  },
  {
   "cell_type": "code",
   "execution_count": 177,
   "metadata": {
    "collapsed": false
   },
   "outputs": [],
   "source": [
    "new_df.location = split_city[0].str.cat(split_city[1])"
   ]
  },
  {
   "cell_type": "code",
   "execution_count": 178,
   "metadata": {
    "collapsed": false
   },
   "outputs": [],
   "source": [
    "new_df_multi.drop('summary', axis=1, inplace=True)"
   ]
  },
  {
   "cell_type": "code",
   "execution_count": 179,
   "metadata": {
    "collapsed": false
   },
   "outputs": [
    {
     "data": {
      "text/html": [
       "<div>\n",
       "<table border=\"1\" class=\"dataframe\">\n",
       "  <thead>\n",
       "    <tr style=\"text-align: right;\">\n",
       "      <th></th>\n",
       "      <th></th>\n",
       "      <th>title</th>\n",
       "      <th>salary</th>\n",
       "      <th>ratings</th>\n",
       "      <th>salary_commas</th>\n",
       "    </tr>\n",
       "    <tr>\n",
       "      <th>location</th>\n",
       "      <th>company</th>\n",
       "      <th></th>\n",
       "      <th></th>\n",
       "      <th></th>\n",
       "      <th></th>\n",
       "    </tr>\n",
       "  </thead>\n",
       "  <tbody>\n",
       "    <tr>\n",
       "      <th>Houston,TX</th>\n",
       "      <th>Rekruiters</th>\n",
       "      <td>C++ Software Engineer</td>\n",
       "      <td>250000.0</td>\n",
       "      <td>None</td>\n",
       "      <td>$250,000.00</td>\n",
       "    </tr>\n",
       "    <tr>\n",
       "      <th>Philadelphia,PA</th>\n",
       "      <th>PenfieldSearchPartners</th>\n",
       "      <td>Sr. Director, Statistical Innovation</td>\n",
       "      <td>220000.0</td>\n",
       "      <td>None</td>\n",
       "      <td>$220,000.00</td>\n",
       "    </tr>\n",
       "    <tr>\n",
       "      <th rowspan=\"2\" valign=\"top\">NewYork,</th>\n",
       "      <th>SelbyJennings</th>\n",
       "      <td>Quantitative Researcher – Machine Learning</td>\n",
       "      <td>200000.0</td>\n",
       "      <td>None</td>\n",
       "      <td>$200,000.00</td>\n",
       "    </tr>\n",
       "    <tr>\n",
       "      <th>Harnham</th>\n",
       "      <td>Senior Data Scientist</td>\n",
       "      <td>200000.0</td>\n",
       "      <td>None</td>\n",
       "      <td>$200,000.00</td>\n",
       "    </tr>\n",
       "    <tr>\n",
       "      <th>LosAngeles,</th>\n",
       "      <th>LT</th>\n",
       "      <td>Senior Data Scientist</td>\n",
       "      <td>180000.0</td>\n",
       "      <td>&lt;span class=\"rating\" style=\"height: 11px; line...</td>\n",
       "      <td>$180,000.00</td>\n",
       "    </tr>\n",
       "    <tr>\n",
       "      <th>Chicago,IL</th>\n",
       "      <th>WorkbridgeAssociates</th>\n",
       "      <td>Director of Data Science</td>\n",
       "      <td>180000.0</td>\n",
       "      <td>&lt;span class=\"rating\" style=\"height: 11px; line...</td>\n",
       "      <td>$180,000.00</td>\n",
       "    </tr>\n",
       "    <tr>\n",
       "      <th>Dallas-FortWorth,</th>\n",
       "      <th>OscarTechnology</th>\n",
       "      <td>Data Science Director</td>\n",
       "      <td>180000.0</td>\n",
       "      <td>None</td>\n",
       "      <td>$180,000.00</td>\n",
       "    </tr>\n",
       "    <tr>\n",
       "      <th>RedwoodCity,</th>\n",
       "      <th>ElevateRecruitingGroup</th>\n",
       "      <td>Senior Data Scientist - Security Experience is...</td>\n",
       "      <td>170000.0</td>\n",
       "      <td>None</td>\n",
       "      <td>$170,000.00</td>\n",
       "    </tr>\n",
       "    <tr>\n",
       "      <th>NewYork,</th>\n",
       "      <th>OliverJamesAssociates</th>\n",
       "      <td>Program Manager - Data Science - New York City...</td>\n",
       "      <td>165000.0</td>\n",
       "      <td>None</td>\n",
       "      <td>$165,000.00</td>\n",
       "    </tr>\n",
       "    <tr>\n",
       "      <th>Philadelphia,PA</th>\n",
       "      <th>Wolfe&amp;HuntsmanLLC</th>\n",
       "      <td>Senior Business Systems Architect (Hadoop Deve...</td>\n",
       "      <td>155000.0</td>\n",
       "      <td>None</td>\n",
       "      <td>$155,000.00</td>\n",
       "    </tr>\n",
       "    <tr>\n",
       "      <th>Houston,TX</th>\n",
       "      <th>SearchBankingJobs</th>\n",
       "      <td>Quantitative Risk Analyst</td>\n",
       "      <td>150000.0</td>\n",
       "      <td>None</td>\n",
       "      <td>$150,000.00</td>\n",
       "    </tr>\n",
       "    <tr>\n",
       "      <th rowspan=\"3\" valign=\"top\">Phoenix,AZ</th>\n",
       "      <th>CareerEvolutions</th>\n",
       "      <td>Data Architect</td>\n",
       "      <td>150000.0</td>\n",
       "      <td>None</td>\n",
       "      <td>$150,000.00</td>\n",
       "    </tr>\n",
       "    <tr>\n",
       "      <th>CareerEvolutions</th>\n",
       "      <td>Data Services Engineer</td>\n",
       "      <td>150000.0</td>\n",
       "      <td>None</td>\n",
       "      <td>$150,000.00</td>\n",
       "    </tr>\n",
       "    <tr>\n",
       "      <th>SearchAccountingJobs</th>\n",
       "      <td>Quantitative Analyst Manager</td>\n",
       "      <td>150000.0</td>\n",
       "      <td>None</td>\n",
       "      <td>$150,000.00</td>\n",
       "    </tr>\n",
       "    <tr>\n",
       "      <th>Dallas,TX</th>\n",
       "      <th>SelbyJennings</th>\n",
       "      <td>Quantitative Analyst - Multiple Vacancies</td>\n",
       "      <td>150000.0</td>\n",
       "      <td>None</td>\n",
       "      <td>$150,000.00</td>\n",
       "    </tr>\n",
       "    <tr>\n",
       "      <th>SanFrancisco,</th>\n",
       "      <th>WorkbridgeAssociates</th>\n",
       "      <td>Senior Data Scientist (Optimization)</td>\n",
       "      <td>140000.0</td>\n",
       "      <td>&lt;span class=\"rating\" style=\"height: 11px; line...</td>\n",
       "      <td>$140,000.00</td>\n",
       "    </tr>\n",
       "    <tr>\n",
       "      <th>Austin,TX</th>\n",
       "      <th>All-InAnalytics</th>\n",
       "      <td>Senior Machine Learning Data Scientist</td>\n",
       "      <td>140000.0</td>\n",
       "      <td>None</td>\n",
       "      <td>$140,000.00</td>\n",
       "    </tr>\n",
       "    <tr>\n",
       "      <th>Philadelphia,PA</th>\n",
       "      <th>LibertyPersonnelServices</th>\n",
       "      <td>Quantitative Research Analyst</td>\n",
       "      <td>140000.0</td>\n",
       "      <td>&lt;span class=\"rating\" style=\"height: 11px; line...</td>\n",
       "      <td>$140,000.00</td>\n",
       "    </tr>\n",
       "    <tr>\n",
       "      <th>NewYork,</th>\n",
       "      <th>HarrisAllied</th>\n",
       "      <td>Quantitative Research/Data Analyst</td>\n",
       "      <td>140000.0</td>\n",
       "      <td>None</td>\n",
       "      <td>$140,000.00</td>\n",
       "    </tr>\n",
       "    <tr>\n",
       "      <th>SanFrancisco,</th>\n",
       "      <th>WorkbridgeAssociates</th>\n",
       "      <td>Senior Data Scientist</td>\n",
       "      <td>140000.0</td>\n",
       "      <td>&lt;span class=\"rating\" style=\"height: 11px; line...</td>\n",
       "      <td>$140,000.00</td>\n",
       "    </tr>\n",
       "    <tr>\n",
       "      <th>NewYork,</th>\n",
       "      <th>SmithHanleyAssociates</th>\n",
       "      <td>Director of Data Science</td>\n",
       "      <td>140000.0</td>\n",
       "      <td>&lt;span class=\"rating\" style=\"height: 11px; line...</td>\n",
       "      <td>$140,000.00</td>\n",
       "    </tr>\n",
       "    <tr>\n",
       "      <th>SanFrancisco,</th>\n",
       "      <th>NisumTechnologies</th>\n",
       "      <td>Big Data Talend Developer</td>\n",
       "      <td>140000.0</td>\n",
       "      <td>&lt;span class=\"rating\" style=\"height: 11px; line...</td>\n",
       "      <td>$140,000.00</td>\n",
       "    </tr>\n",
       "    <tr>\n",
       "      <th rowspan=\"2\" valign=\"top\">NewYork,</th>\n",
       "      <th>SelbyJennings</th>\n",
       "      <td>Senior Data Scientist</td>\n",
       "      <td>135000.0</td>\n",
       "      <td>None</td>\n",
       "      <td>$135,000.00</td>\n",
       "    </tr>\n",
       "    <tr>\n",
       "      <th>Beeswax</th>\n",
       "      <td>Senior / Director Data Science</td>\n",
       "      <td>130000.0</td>\n",
       "      <td>None</td>\n",
       "      <td>$130,000.00</td>\n",
       "    </tr>\n",
       "    <tr>\n",
       "      <th rowspan=\"2\" valign=\"top\">Chicago,IL</th>\n",
       "      <th>WorkbridgeAssociates</th>\n",
       "      <td>Senior Data Scientist</td>\n",
       "      <td>130000.0</td>\n",
       "      <td>&lt;span class=\"rating\" style=\"height: 11px; line...</td>\n",
       "      <td>$130,000.00</td>\n",
       "    </tr>\n",
       "    <tr>\n",
       "      <th>SilvaCapitalManagement</th>\n",
       "      <td>Quantitative Analyst</td>\n",
       "      <td>125000.0</td>\n",
       "      <td>None</td>\n",
       "      <td>$125,000.00</td>\n",
       "    </tr>\n",
       "    <tr>\n",
       "      <th>NewYork,</th>\n",
       "      <th>SelbyJennings</th>\n",
       "      <td>Quantitative Analyst - Multiple Vacancies</td>\n",
       "      <td>120000.0</td>\n",
       "      <td>None</td>\n",
       "      <td>$120,000.00</td>\n",
       "    </tr>\n",
       "    <tr>\n",
       "      <th>LosAngeles,</th>\n",
       "      <th>SelbyJennings</th>\n",
       "      <td>Quantitative Analyst - Multiple Vacancies</td>\n",
       "      <td>120000.0</td>\n",
       "      <td>None</td>\n",
       "      <td>$120,000.00</td>\n",
       "    </tr>\n",
       "    <tr>\n",
       "      <th>Denver,CO</th>\n",
       "      <th>10RoofTechnology</th>\n",
       "      <td>Big Data Developer (Spark, Hadoop, Hive)</td>\n",
       "      <td>105000.0</td>\n",
       "      <td>None</td>\n",
       "      <td>$105,000.00</td>\n",
       "    </tr>\n",
       "    <tr>\n",
       "      <th>Atlanta,GA</th>\n",
       "      <th>CentersforDiseaseControlandPrevention</th>\n",
       "      <td>Lead Statistician (Health)</td>\n",
       "      <td>104349.0</td>\n",
       "      <td>&lt;span class=\"rating\" style=\"height: 11px; line...</td>\n",
       "      <td>$104,349.00</td>\n",
       "    </tr>\n",
       "    <tr>\n",
       "      <th>...</th>\n",
       "      <th>...</th>\n",
       "      <td>...</td>\n",
       "      <td>...</td>\n",
       "      <td>...</td>\n",
       "      <td>...</td>\n",
       "    </tr>\n",
       "    <tr>\n",
       "      <th>Portland,OR</th>\n",
       "      <th>OregonHealth&amp;ScienceUniversity</th>\n",
       "      <td>Postdoctoral Researcher</td>\n",
       "      <td>50000.0</td>\n",
       "      <td>&lt;span class=\"rating\" style=\"height: 11px; line...</td>\n",
       "      <td>$50,000.00</td>\n",
       "    </tr>\n",
       "    <tr>\n",
       "      <th>Seattle,WA</th>\n",
       "      <th>PhilanthropyNorthwest</th>\n",
       "      <td>Research Analyst, The Giving Practice</td>\n",
       "      <td>50000.0</td>\n",
       "      <td>None</td>\n",
       "      <td>$50,000.00</td>\n",
       "    </tr>\n",
       "    <tr>\n",
       "      <th>RowlandHeights,</th>\n",
       "      <th>QYResearch</th>\n",
       "      <td>Market Research Analyst</td>\n",
       "      <td>50000.0</td>\n",
       "      <td>None</td>\n",
       "      <td>$50,000.00</td>\n",
       "    </tr>\n",
       "    <tr>\n",
       "      <th>Austin,TX</th>\n",
       "      <th>SmithArnoldPartners</th>\n",
       "      <td>Research Analyst</td>\n",
       "      <td>50000.0</td>\n",
       "      <td>None</td>\n",
       "      <td>$50,000.00</td>\n",
       "    </tr>\n",
       "    <tr>\n",
       "      <th>RowlandHeights,</th>\n",
       "      <th>QYResearch</th>\n",
       "      <td>Automotive industry market research analyst</td>\n",
       "      <td>50000.0</td>\n",
       "      <td>None</td>\n",
       "      <td>$50,000.00</td>\n",
       "    </tr>\n",
       "    <tr>\n",
       "      <th>Portland,OR</th>\n",
       "      <th>ColumbiaRiverInter-TribalFishCommission(CRITF...</th>\n",
       "      <td>Fishery Biologist</td>\n",
       "      <td>49751.0</td>\n",
       "      <td>None</td>\n",
       "      <td>$49,751.00</td>\n",
       "    </tr>\n",
       "    <tr>\n",
       "      <th>Philadelphia,PA</th>\n",
       "      <th>TempleUniversity</th>\n",
       "      <td>NTT Research Faculty</td>\n",
       "      <td>48000.0</td>\n",
       "      <td>None</td>\n",
       "      <td>$48,000.00</td>\n",
       "    </tr>\n",
       "    <tr>\n",
       "      <th>Tempe,AZ</th>\n",
       "      <th>ArizonaStateUniversity</th>\n",
       "      <td>Management Research Analyst</td>\n",
       "      <td>47476.0</td>\n",
       "      <td>&lt;span class=\"rating\" style=\"height: 11px; line...</td>\n",
       "      <td>$47,476.00</td>\n",
       "    </tr>\n",
       "    <tr>\n",
       "      <th>Richardson,TX</th>\n",
       "      <th>UniversityofTexasatDallas</th>\n",
       "      <td>Research Scientist</td>\n",
       "      <td>46000.0</td>\n",
       "      <td>&lt;span class=\"rating\" style=\"height: 11px; line...</td>\n",
       "      <td>$46,000.00</td>\n",
       "    </tr>\n",
       "    <tr>\n",
       "      <th>Portland,OR</th>\n",
       "      <th>CascadeInsights</th>\n",
       "      <td>Prospector</td>\n",
       "      <td>45000.0</td>\n",
       "      <td>None</td>\n",
       "      <td>$45,000.00</td>\n",
       "    </tr>\n",
       "    <tr>\n",
       "      <th>Irving,TX</th>\n",
       "      <th>BoyScoutsofAmerica</th>\n",
       "      <td>Senior Statistical Data Coordinator</td>\n",
       "      <td>45000.0</td>\n",
       "      <td>&lt;span class=\"rating\" style=\"height: 11px; line...</td>\n",
       "      <td>$45,000.00</td>\n",
       "    </tr>\n",
       "    <tr>\n",
       "      <th>Austin,TX</th>\n",
       "      <th>JECompliance</th>\n",
       "      <td>JIRA Business System Analyst</td>\n",
       "      <td>45000.0</td>\n",
       "      <td>None</td>\n",
       "      <td>$45,000.00</td>\n",
       "    </tr>\n",
       "    <tr>\n",
       "      <th>Phoenix,AZ</th>\n",
       "      <th>MaricopaCounty,AZ</th>\n",
       "      <td>Research Analyst</td>\n",
       "      <td>44616.0</td>\n",
       "      <td>None</td>\n",
       "      <td>$44,616.00</td>\n",
       "    </tr>\n",
       "    <tr>\n",
       "      <th>Denver,CO</th>\n",
       "      <th>MountainLtd.</th>\n",
       "      <td>Legal Research Analyst</td>\n",
       "      <td>42500.0</td>\n",
       "      <td>None</td>\n",
       "      <td>$42,500.00</td>\n",
       "    </tr>\n",
       "    <tr>\n",
       "      <th>Pittsburgh,PA</th>\n",
       "      <th>TheUniversityofPittsburgh</th>\n",
       "      <td>Clinical Research Program Coordinator</td>\n",
       "      <td>40092.0</td>\n",
       "      <td>&lt;span class=\"rating\" style=\"height: 11px; line...</td>\n",
       "      <td>$40,092.00</td>\n",
       "    </tr>\n",
       "    <tr>\n",
       "      <th>CoralGables,</th>\n",
       "      <th>UniversityofMiami</th>\n",
       "      <td>Sr. Research Analyst</td>\n",
       "      <td>40000.0</td>\n",
       "      <td>&lt;span class=\"rating\" style=\"height: 11px; line...</td>\n",
       "      <td>$40,000.00</td>\n",
       "    </tr>\n",
       "    <tr>\n",
       "      <th>Aurora,CO</th>\n",
       "      <th>CommunityCollegeofAurora</th>\n",
       "      <td>Research Analyst</td>\n",
       "      <td>40000.0</td>\n",
       "      <td>&lt;span class=\"rating\" style=\"height: 11px; line...</td>\n",
       "      <td>$40,000.00</td>\n",
       "    </tr>\n",
       "    <tr>\n",
       "      <th>CoralGables,</th>\n",
       "      <th>UniversityofMiami</th>\n",
       "      <td>Sr. Research Analyst / Pre-award Grants</td>\n",
       "      <td>40000.0</td>\n",
       "      <td>&lt;span class=\"rating\" style=\"height: 11px; line...</td>\n",
       "      <td>$40,000.00</td>\n",
       "    </tr>\n",
       "    <tr>\n",
       "      <th>Phoenix,AZ</th>\n",
       "      <th>ArizonaHealthCareCostContainmentSystem</th>\n",
       "      <td>RESEARCH AND STATISTICAL ANALYST</td>\n",
       "      <td>39983.0</td>\n",
       "      <td>&lt;span class=\"rating\" style=\"height: 11px; line...</td>\n",
       "      <td>$39,983.00</td>\n",
       "    </tr>\n",
       "    <tr>\n",
       "      <th rowspan=\"2\" valign=\"top\">CoralGables,</th>\n",
       "      <th>UniversityofMiami</th>\n",
       "      <td>Financial Analyst (Clinical Research Revenue)</td>\n",
       "      <td>38750.0</td>\n",
       "      <td>&lt;span class=\"rating\" style=\"height: 11px; line...</td>\n",
       "      <td>$38,750.00</td>\n",
       "    </tr>\n",
       "    <tr>\n",
       "      <th>UniversityofMiami</th>\n",
       "      <td>(Temporary) Research Analyst</td>\n",
       "      <td>38750.0</td>\n",
       "      <td>&lt;span class=\"rating\" style=\"height: 11px; line...</td>\n",
       "      <td>$38,750.00</td>\n",
       "    </tr>\n",
       "    <tr>\n",
       "      <th>LosAngeles,</th>\n",
       "      <th>LosAngelesCountyHumanResources</th>\n",
       "      <td>SENIOR STATISTICAL CLERK</td>\n",
       "      <td>36339.0</td>\n",
       "      <td>None</td>\n",
       "      <td>$36,339.00</td>\n",
       "    </tr>\n",
       "    <tr>\n",
       "      <th>Denver,CO</th>\n",
       "      <th>LaurenEnterprises</th>\n",
       "      <td>Food Scientist: Chemistry &amp; Formulations</td>\n",
       "      <td>35000.0</td>\n",
       "      <td>None</td>\n",
       "      <td>$35,000.00</td>\n",
       "    </tr>\n",
       "    <tr>\n",
       "      <th>Bellevue,WA</th>\n",
       "      <th>G2WebServices,LLC</th>\n",
       "      <td>Research and Investigation Analyst</td>\n",
       "      <td>35000.0</td>\n",
       "      <td>None</td>\n",
       "      <td>$35,000.00</td>\n",
       "    </tr>\n",
       "    <tr>\n",
       "      <th rowspan=\"2\" valign=\"top\">CoralGables,</th>\n",
       "      <th>UniversityofMiami</th>\n",
       "      <td>Research Analyst</td>\n",
       "      <td>32900.0</td>\n",
       "      <td>&lt;span class=\"rating\" style=\"height: 11px; line...</td>\n",
       "      <td>$32,900.00</td>\n",
       "    </tr>\n",
       "    <tr>\n",
       "      <th>UniversityofMiami</th>\n",
       "      <td>Statistical Programmer</td>\n",
       "      <td>32900.0</td>\n",
       "      <td>&lt;span class=\"rating\" style=\"height: 11px; line...</td>\n",
       "      <td>$32,900.00</td>\n",
       "    </tr>\n",
       "    <tr>\n",
       "      <th rowspan=\"2\" valign=\"top\">Pittsburgh,PA</th>\n",
       "      <th>TheUniversityofPittsburgh</th>\n",
       "      <td>Research Technician</td>\n",
       "      <td>30732.0</td>\n",
       "      <td>&lt;span class=\"rating\" style=\"height: 11px; line...</td>\n",
       "      <td>$30,732.00</td>\n",
       "    </tr>\n",
       "    <tr>\n",
       "      <th>TheUniversityofPittsburgh</th>\n",
       "      <td>Program Statistician</td>\n",
       "      <td>30732.0</td>\n",
       "      <td>&lt;span class=\"rating\" style=\"height: 11px; line...</td>\n",
       "      <td>$30,732.00</td>\n",
       "    </tr>\n",
       "    <tr>\n",
       "      <th>CoralGables,</th>\n",
       "      <th>UniversityofMiami</th>\n",
       "      <td>(Temporary) Research Laboratory Technician</td>\n",
       "      <td>27400.0</td>\n",
       "      <td>&lt;span class=\"rating\" style=\"height: 11px; line...</td>\n",
       "      <td>$27,400.00</td>\n",
       "    </tr>\n",
       "    <tr>\n",
       "      <th>Pittsburgh,PA</th>\n",
       "      <th>TheUniversityofPittsburgh</th>\n",
       "      <td>Laboratory Technician</td>\n",
       "      <td>23868.0</td>\n",
       "      <td>&lt;span class=\"rating\" style=\"height: 11px; line...</td>\n",
       "      <td>$23,868.00</td>\n",
       "    </tr>\n",
       "  </tbody>\n",
       "</table>\n",
       "<p>123 rows × 4 columns</p>\n",
       "</div>"
      ],
      "text/plain": [
       "                                                                                                                title  \\\n",
       "location          company                                                                                               \n",
       "Houston,TX        Rekruiters                                                                    C++ Software Engineer   \n",
       "Philadelphia,PA   PenfieldSearchPartners                                         Sr. Director, Statistical Innovation   \n",
       "NewYork,          SelbyJennings                                            Quantitative Researcher – Machine Learning   \n",
       "                  Harnham                                                                       Senior Data Scientist   \n",
       "LosAngeles,       LT                                                                            Senior Data Scientist   \n",
       "Chicago,IL        WorkbridgeAssociates                                                       Director of Data Science   \n",
       "Dallas-FortWorth, OscarTechnology                                                               Data Science Director   \n",
       "RedwoodCity,      ElevateRecruitingGroup                            Senior Data Scientist - Security Experience is...   \n",
       "NewYork,          OliverJamesAssociates                             Program Manager - Data Science - New York City...   \n",
       "Philadelphia,PA   Wolfe&HuntsmanLLC                                 Senior Business Systems Architect (Hadoop Deve...   \n",
       "Houston,TX        SearchBankingJobs                                                         Quantitative Risk Analyst   \n",
       "Phoenix,AZ        CareerEvolutions                                                                     Data Architect   \n",
       "                  CareerEvolutions                                                             Data Services Engineer   \n",
       "                  SearchAccountingJobs                                                   Quantitative Analyst Manager   \n",
       "Dallas,TX         SelbyJennings                                             Quantitative Analyst - Multiple Vacancies   \n",
       "SanFrancisco,     WorkbridgeAssociates                                           Senior Data Scientist (Optimization)   \n",
       "Austin,TX         All-InAnalytics                                              Senior Machine Learning Data Scientist   \n",
       "Philadelphia,PA   LibertyPersonnelServices                                              Quantitative Research Analyst   \n",
       "NewYork,          HarrisAllied                                                     Quantitative Research/Data Analyst   \n",
       "SanFrancisco,     WorkbridgeAssociates                                                          Senior Data Scientist   \n",
       "NewYork,          SmithHanleyAssociates                                                      Director of Data Science   \n",
       "SanFrancisco,     NisumTechnologies                                                         Big Data Talend Developer   \n",
       "NewYork,          SelbyJennings                                                                 Senior Data Scientist   \n",
       "                  Beeswax                                                              Senior / Director Data Science   \n",
       "Chicago,IL        WorkbridgeAssociates                                                          Senior Data Scientist   \n",
       "                  SilvaCapitalManagement                                                         Quantitative Analyst   \n",
       "NewYork,          SelbyJennings                                             Quantitative Analyst - Multiple Vacancies   \n",
       "LosAngeles,       SelbyJennings                                             Quantitative Analyst - Multiple Vacancies   \n",
       "Denver,CO         10RoofTechnology                                           Big Data Developer (Spark, Hadoop, Hive)   \n",
       "Atlanta,GA        CentersforDiseaseControlandPrevention                                    Lead Statistician (Health)   \n",
       "...                                                                                                               ...   \n",
       "Portland,OR       OregonHealth&ScienceUniversity                                              Postdoctoral Researcher   \n",
       "Seattle,WA        PhilanthropyNorthwest                                         Research Analyst, The Giving Practice   \n",
       "RowlandHeights,   QYResearch                                                                  Market Research Analyst   \n",
       "Austin,TX         SmithArnoldPartners                                                                Research Analyst   \n",
       "RowlandHeights,   QYResearch                                              Automotive industry market research analyst   \n",
       "Portland,OR       ColumbiaRiverInter-TribalFishCommission(CRITF...                                  Fishery Biologist   \n",
       "Philadelphia,PA   TempleUniversity                                                               NTT Research Faculty   \n",
       "Tempe,AZ          ArizonaStateUniversity                                                  Management Research Analyst   \n",
       "Richardson,TX     UniversityofTexasatDallas                                                        Research Scientist   \n",
       "Portland,OR       CascadeInsights                                                                          Prospector   \n",
       "Irving,TX         BoyScoutsofAmerica                                              Senior Statistical Data Coordinator   \n",
       "Austin,TX         JECompliance                                                           JIRA Business System Analyst   \n",
       "Phoenix,AZ        MaricopaCounty,AZ                                                                  Research Analyst   \n",
       "Denver,CO         MountainLtd.                                                                 Legal Research Analyst   \n",
       "Pittsburgh,PA     TheUniversityofPittsburgh                                     Clinical Research Program Coordinator   \n",
       "CoralGables,      UniversityofMiami                                                              Sr. Research Analyst   \n",
       "Aurora,CO         CommunityCollegeofAurora                                                           Research Analyst   \n",
       "CoralGables,      UniversityofMiami                                           Sr. Research Analyst / Pre-award Grants   \n",
       "Phoenix,AZ        ArizonaHealthCareCostContainmentSystem                             RESEARCH AND STATISTICAL ANALYST   \n",
       "CoralGables,      UniversityofMiami                                     Financial Analyst (Clinical Research Revenue)   \n",
       "                  UniversityofMiami                                                      (Temporary) Research Analyst   \n",
       "LosAngeles,       LosAngelesCountyHumanResources                                             SENIOR STATISTICAL CLERK   \n",
       "Denver,CO         LaurenEnterprises                                          Food Scientist: Chemistry & Formulations   \n",
       "Bellevue,WA       G2WebServices,LLC                                                Research and Investigation Analyst   \n",
       "CoralGables,      UniversityofMiami                                                                  Research Analyst   \n",
       "                  UniversityofMiami                                                            Statistical Programmer   \n",
       "Pittsburgh,PA     TheUniversityofPittsburgh                                                       Research Technician   \n",
       "                  TheUniversityofPittsburgh                                                      Program Statistician   \n",
       "CoralGables,      UniversityofMiami                                        (Temporary) Research Laboratory Technician   \n",
       "Pittsburgh,PA     TheUniversityofPittsburgh                                                     Laboratory Technician   \n",
       "\n",
       "                                                                      salary  \\\n",
       "location          company                                                      \n",
       "Houston,TX        Rekruiters                                        250000.0   \n",
       "Philadelphia,PA   PenfieldSearchPartners                            220000.0   \n",
       "NewYork,          SelbyJennings                                     200000.0   \n",
       "                  Harnham                                           200000.0   \n",
       "LosAngeles,       LT                                                180000.0   \n",
       "Chicago,IL        WorkbridgeAssociates                              180000.0   \n",
       "Dallas-FortWorth, OscarTechnology                                   180000.0   \n",
       "RedwoodCity,      ElevateRecruitingGroup                            170000.0   \n",
       "NewYork,          OliverJamesAssociates                             165000.0   \n",
       "Philadelphia,PA   Wolfe&HuntsmanLLC                                 155000.0   \n",
       "Houston,TX        SearchBankingJobs                                 150000.0   \n",
       "Phoenix,AZ        CareerEvolutions                                  150000.0   \n",
       "                  CareerEvolutions                                  150000.0   \n",
       "                  SearchAccountingJobs                              150000.0   \n",
       "Dallas,TX         SelbyJennings                                     150000.0   \n",
       "SanFrancisco,     WorkbridgeAssociates                              140000.0   \n",
       "Austin,TX         All-InAnalytics                                   140000.0   \n",
       "Philadelphia,PA   LibertyPersonnelServices                          140000.0   \n",
       "NewYork,          HarrisAllied                                      140000.0   \n",
       "SanFrancisco,     WorkbridgeAssociates                              140000.0   \n",
       "NewYork,          SmithHanleyAssociates                             140000.0   \n",
       "SanFrancisco,     NisumTechnologies                                 140000.0   \n",
       "NewYork,          SelbyJennings                                     135000.0   \n",
       "                  Beeswax                                           130000.0   \n",
       "Chicago,IL        WorkbridgeAssociates                              130000.0   \n",
       "                  SilvaCapitalManagement                            125000.0   \n",
       "NewYork,          SelbyJennings                                     120000.0   \n",
       "LosAngeles,       SelbyJennings                                     120000.0   \n",
       "Denver,CO         10RoofTechnology                                  105000.0   \n",
       "Atlanta,GA        CentersforDiseaseControlandPrevention             104349.0   \n",
       "...                                                                      ...   \n",
       "Portland,OR       OregonHealth&ScienceUniversity                     50000.0   \n",
       "Seattle,WA        PhilanthropyNorthwest                              50000.0   \n",
       "RowlandHeights,   QYResearch                                         50000.0   \n",
       "Austin,TX         SmithArnoldPartners                                50000.0   \n",
       "RowlandHeights,   QYResearch                                         50000.0   \n",
       "Portland,OR       ColumbiaRiverInter-TribalFishCommission(CRITF...   49751.0   \n",
       "Philadelphia,PA   TempleUniversity                                   48000.0   \n",
       "Tempe,AZ          ArizonaStateUniversity                             47476.0   \n",
       "Richardson,TX     UniversityofTexasatDallas                          46000.0   \n",
       "Portland,OR       CascadeInsights                                    45000.0   \n",
       "Irving,TX         BoyScoutsofAmerica                                 45000.0   \n",
       "Austin,TX         JECompliance                                       45000.0   \n",
       "Phoenix,AZ        MaricopaCounty,AZ                                  44616.0   \n",
       "Denver,CO         MountainLtd.                                       42500.0   \n",
       "Pittsburgh,PA     TheUniversityofPittsburgh                          40092.0   \n",
       "CoralGables,      UniversityofMiami                                  40000.0   \n",
       "Aurora,CO         CommunityCollegeofAurora                           40000.0   \n",
       "CoralGables,      UniversityofMiami                                  40000.0   \n",
       "Phoenix,AZ        ArizonaHealthCareCostContainmentSystem             39983.0   \n",
       "CoralGables,      UniversityofMiami                                  38750.0   \n",
       "                  UniversityofMiami                                  38750.0   \n",
       "LosAngeles,       LosAngelesCountyHumanResources                     36339.0   \n",
       "Denver,CO         LaurenEnterprises                                  35000.0   \n",
       "Bellevue,WA       G2WebServices,LLC                                  35000.0   \n",
       "CoralGables,      UniversityofMiami                                  32900.0   \n",
       "                  UniversityofMiami                                  32900.0   \n",
       "Pittsburgh,PA     TheUniversityofPittsburgh                          30732.0   \n",
       "                  TheUniversityofPittsburgh                          30732.0   \n",
       "CoralGables,      UniversityofMiami                                  27400.0   \n",
       "Pittsburgh,PA     TheUniversityofPittsburgh                          23868.0   \n",
       "\n",
       "                                                                                                              ratings  \\\n",
       "location          company                                                                                               \n",
       "Houston,TX        Rekruiters                                                                                     None   \n",
       "Philadelphia,PA   PenfieldSearchPartners                                                                         None   \n",
       "NewYork,          SelbyJennings                                                                                  None   \n",
       "                  Harnham                                                                                        None   \n",
       "LosAngeles,       LT                                                <span class=\"rating\" style=\"height: 11px; line...   \n",
       "Chicago,IL        WorkbridgeAssociates                              <span class=\"rating\" style=\"height: 11px; line...   \n",
       "Dallas-FortWorth, OscarTechnology                                                                                None   \n",
       "RedwoodCity,      ElevateRecruitingGroup                                                                         None   \n",
       "NewYork,          OliverJamesAssociates                                                                          None   \n",
       "Philadelphia,PA   Wolfe&HuntsmanLLC                                                                              None   \n",
       "Houston,TX        SearchBankingJobs                                                                              None   \n",
       "Phoenix,AZ        CareerEvolutions                                                                               None   \n",
       "                  CareerEvolutions                                                                               None   \n",
       "                  SearchAccountingJobs                                                                           None   \n",
       "Dallas,TX         SelbyJennings                                                                                  None   \n",
       "SanFrancisco,     WorkbridgeAssociates                              <span class=\"rating\" style=\"height: 11px; line...   \n",
       "Austin,TX         All-InAnalytics                                                                                None   \n",
       "Philadelphia,PA   LibertyPersonnelServices                          <span class=\"rating\" style=\"height: 11px; line...   \n",
       "NewYork,          HarrisAllied                                                                                   None   \n",
       "SanFrancisco,     WorkbridgeAssociates                              <span class=\"rating\" style=\"height: 11px; line...   \n",
       "NewYork,          SmithHanleyAssociates                             <span class=\"rating\" style=\"height: 11px; line...   \n",
       "SanFrancisco,     NisumTechnologies                                 <span class=\"rating\" style=\"height: 11px; line...   \n",
       "NewYork,          SelbyJennings                                                                                  None   \n",
       "                  Beeswax                                                                                        None   \n",
       "Chicago,IL        WorkbridgeAssociates                              <span class=\"rating\" style=\"height: 11px; line...   \n",
       "                  SilvaCapitalManagement                                                                         None   \n",
       "NewYork,          SelbyJennings                                                                                  None   \n",
       "LosAngeles,       SelbyJennings                                                                                  None   \n",
       "Denver,CO         10RoofTechnology                                                                               None   \n",
       "Atlanta,GA        CentersforDiseaseControlandPrevention             <span class=\"rating\" style=\"height: 11px; line...   \n",
       "...                                                                                                               ...   \n",
       "Portland,OR       OregonHealth&ScienceUniversity                    <span class=\"rating\" style=\"height: 11px; line...   \n",
       "Seattle,WA        PhilanthropyNorthwest                                                                          None   \n",
       "RowlandHeights,   QYResearch                                                                                     None   \n",
       "Austin,TX         SmithArnoldPartners                                                                            None   \n",
       "RowlandHeights,   QYResearch                                                                                     None   \n",
       "Portland,OR       ColumbiaRiverInter-TribalFishCommission(CRITF...                                               None   \n",
       "Philadelphia,PA   TempleUniversity                                                                               None   \n",
       "Tempe,AZ          ArizonaStateUniversity                            <span class=\"rating\" style=\"height: 11px; line...   \n",
       "Richardson,TX     UniversityofTexasatDallas                         <span class=\"rating\" style=\"height: 11px; line...   \n",
       "Portland,OR       CascadeInsights                                                                                None   \n",
       "Irving,TX         BoyScoutsofAmerica                                <span class=\"rating\" style=\"height: 11px; line...   \n",
       "Austin,TX         JECompliance                                                                                   None   \n",
       "Phoenix,AZ        MaricopaCounty,AZ                                                                              None   \n",
       "Denver,CO         MountainLtd.                                                                                   None   \n",
       "Pittsburgh,PA     TheUniversityofPittsburgh                         <span class=\"rating\" style=\"height: 11px; line...   \n",
       "CoralGables,      UniversityofMiami                                 <span class=\"rating\" style=\"height: 11px; line...   \n",
       "Aurora,CO         CommunityCollegeofAurora                          <span class=\"rating\" style=\"height: 11px; line...   \n",
       "CoralGables,      UniversityofMiami                                 <span class=\"rating\" style=\"height: 11px; line...   \n",
       "Phoenix,AZ        ArizonaHealthCareCostContainmentSystem            <span class=\"rating\" style=\"height: 11px; line...   \n",
       "CoralGables,      UniversityofMiami                                 <span class=\"rating\" style=\"height: 11px; line...   \n",
       "                  UniversityofMiami                                 <span class=\"rating\" style=\"height: 11px; line...   \n",
       "LosAngeles,       LosAngelesCountyHumanResources                                                                 None   \n",
       "Denver,CO         LaurenEnterprises                                                                              None   \n",
       "Bellevue,WA       G2WebServices,LLC                                                                              None   \n",
       "CoralGables,      UniversityofMiami                                 <span class=\"rating\" style=\"height: 11px; line...   \n",
       "                  UniversityofMiami                                 <span class=\"rating\" style=\"height: 11px; line...   \n",
       "Pittsburgh,PA     TheUniversityofPittsburgh                         <span class=\"rating\" style=\"height: 11px; line...   \n",
       "                  TheUniversityofPittsburgh                         <span class=\"rating\" style=\"height: 11px; line...   \n",
       "CoralGables,      UniversityofMiami                                 <span class=\"rating\" style=\"height: 11px; line...   \n",
       "Pittsburgh,PA     TheUniversityofPittsburgh                         <span class=\"rating\" style=\"height: 11px; line...   \n",
       "\n",
       "                                                                   salary_commas  \n",
       "location          company                                                         \n",
       "Houston,TX        Rekruiters                                         $250,000.00  \n",
       "Philadelphia,PA   PenfieldSearchPartners                             $220,000.00  \n",
       "NewYork,          SelbyJennings                                      $200,000.00  \n",
       "                  Harnham                                            $200,000.00  \n",
       "LosAngeles,       LT                                                 $180,000.00  \n",
       "Chicago,IL        WorkbridgeAssociates                               $180,000.00  \n",
       "Dallas-FortWorth, OscarTechnology                                    $180,000.00  \n",
       "RedwoodCity,      ElevateRecruitingGroup                             $170,000.00  \n",
       "NewYork,          OliverJamesAssociates                              $165,000.00  \n",
       "Philadelphia,PA   Wolfe&HuntsmanLLC                                  $155,000.00  \n",
       "Houston,TX        SearchBankingJobs                                  $150,000.00  \n",
       "Phoenix,AZ        CareerEvolutions                                   $150,000.00  \n",
       "                  CareerEvolutions                                   $150,000.00  \n",
       "                  SearchAccountingJobs                               $150,000.00  \n",
       "Dallas,TX         SelbyJennings                                      $150,000.00  \n",
       "SanFrancisco,     WorkbridgeAssociates                               $140,000.00  \n",
       "Austin,TX         All-InAnalytics                                    $140,000.00  \n",
       "Philadelphia,PA   LibertyPersonnelServices                           $140,000.00  \n",
       "NewYork,          HarrisAllied                                       $140,000.00  \n",
       "SanFrancisco,     WorkbridgeAssociates                               $140,000.00  \n",
       "NewYork,          SmithHanleyAssociates                              $140,000.00  \n",
       "SanFrancisco,     NisumTechnologies                                  $140,000.00  \n",
       "NewYork,          SelbyJennings                                      $135,000.00  \n",
       "                  Beeswax                                            $130,000.00  \n",
       "Chicago,IL        WorkbridgeAssociates                               $130,000.00  \n",
       "                  SilvaCapitalManagement                             $125,000.00  \n",
       "NewYork,          SelbyJennings                                      $120,000.00  \n",
       "LosAngeles,       SelbyJennings                                      $120,000.00  \n",
       "Denver,CO         10RoofTechnology                                   $105,000.00  \n",
       "Atlanta,GA        CentersforDiseaseControlandPrevention              $104,349.00  \n",
       "...                                                                          ...  \n",
       "Portland,OR       OregonHealth&ScienceUniversity                      $50,000.00  \n",
       "Seattle,WA        PhilanthropyNorthwest                               $50,000.00  \n",
       "RowlandHeights,   QYResearch                                          $50,000.00  \n",
       "Austin,TX         SmithArnoldPartners                                 $50,000.00  \n",
       "RowlandHeights,   QYResearch                                          $50,000.00  \n",
       "Portland,OR       ColumbiaRiverInter-TribalFishCommission(CRITF...    $49,751.00  \n",
       "Philadelphia,PA   TempleUniversity                                    $48,000.00  \n",
       "Tempe,AZ          ArizonaStateUniversity                              $47,476.00  \n",
       "Richardson,TX     UniversityofTexasatDallas                           $46,000.00  \n",
       "Portland,OR       CascadeInsights                                     $45,000.00  \n",
       "Irving,TX         BoyScoutsofAmerica                                  $45,000.00  \n",
       "Austin,TX         JECompliance                                        $45,000.00  \n",
       "Phoenix,AZ        MaricopaCounty,AZ                                   $44,616.00  \n",
       "Denver,CO         MountainLtd.                                        $42,500.00  \n",
       "Pittsburgh,PA     TheUniversityofPittsburgh                           $40,092.00  \n",
       "CoralGables,      UniversityofMiami                                   $40,000.00  \n",
       "Aurora,CO         CommunityCollegeofAurora                            $40,000.00  \n",
       "CoralGables,      UniversityofMiami                                   $40,000.00  \n",
       "Phoenix,AZ        ArizonaHealthCareCostContainmentSystem              $39,983.00  \n",
       "CoralGables,      UniversityofMiami                                   $38,750.00  \n",
       "                  UniversityofMiami                                   $38,750.00  \n",
       "LosAngeles,       LosAngelesCountyHumanResources                      $36,339.00  \n",
       "Denver,CO         LaurenEnterprises                                   $35,000.00  \n",
       "Bellevue,WA       G2WebServices,LLC                                   $35,000.00  \n",
       "CoralGables,      UniversityofMiami                                   $32,900.00  \n",
       "                  UniversityofMiami                                   $32,900.00  \n",
       "Pittsburgh,PA     TheUniversityofPittsburgh                           $30,732.00  \n",
       "                  TheUniversityofPittsburgh                           $30,732.00  \n",
       "CoralGables,      UniversityofMiami                                   $27,400.00  \n",
       "Pittsburgh,PA     TheUniversityofPittsburgh                           $23,868.00  \n",
       "\n",
       "[123 rows x 4 columns]"
      ]
     },
     "execution_count": 179,
     "metadata": {},
     "output_type": "execute_result"
    }
   ],
   "source": [
    "new_df_multi.sort_values(by='salary', ascending=False)"
   ]
  },
  {
   "cell_type": "markdown",
   "metadata": {
    "focus": false,
    "id": "c7631f51-07f2-4c79-a093-3e9bc7849a48"
   },
   "source": [
    "#### We want to predict a binary variable - whether the salary was low or high. Compute the median salary and create a new binary variable that is true when the salary is high (above the median)\n",
    "\n",
    "We could also perform Linear Regression (or any regression) to predict the salary value here. Instead, we are going to convert this into a _binary_ classification problem, by predicting two classes, HIGH vs LOW salary.\n",
    "\n",
    "While performing regression may be better, performing classification may help remove some of the noise of the extreme salaries. We don't have to choice the `median` as the splitting point - we could also split on the 75th percentile or any other reasonable breaking point.\n",
    "\n",
    "In fact, the ideal scenario may be to predict many levels of salaries, "
   ]
  },
  {
   "cell_type": "code",
   "execution_count": 180,
   "metadata": {
    "collapsed": false,
    "focus": false,
    "id": "c20d2498-151c-44c3-a453-3a333c79a0ac"
   },
   "outputs": [],
   "source": [
    "salaies_split = new_df.salary.quantile(0.75)"
   ]
  },
  {
   "cell_type": "code",
   "execution_count": 181,
   "metadata": {
    "collapsed": false
   },
   "outputs": [
    {
     "data": {
      "text/plain": [
       "103674.5"
      ]
     },
     "execution_count": 181,
     "metadata": {},
     "output_type": "execute_result"
    }
   ],
   "source": [
    "salaies_split"
   ]
  },
  {
   "cell_type": "code",
   "execution_count": 182,
   "metadata": {
    "collapsed": true
   },
   "outputs": [],
   "source": [
    "def binary_conditioner(a):\n",
    "    if a> salaies_split:\n",
    "        return 1\n",
    "    elif a < salaies_split:\n",
    "        return 0"
   ]
  },
  {
   "cell_type": "code",
   "execution_count": 183,
   "metadata": {
    "collapsed": true
   },
   "outputs": [],
   "source": [
    "new_df['salaries_binary'] = new_df.salary.apply(binary_conditioner)"
   ]
  },
  {
   "cell_type": "code",
   "execution_count": 184,
   "metadata": {
    "collapsed": false
   },
   "outputs": [
    {
     "data": {
      "text/plain": [
       "0    92\n",
       "1    31\n",
       "Name: salaries_binary, dtype: int64"
      ]
     },
     "execution_count": 184,
     "metadata": {},
     "output_type": "execute_result"
    }
   ],
   "source": [
    "new_df.salaries_binary.value_counts()"
   ]
  },
  {
   "cell_type": "code",
   "execution_count": 185,
   "metadata": {
    "collapsed": false
   },
   "outputs": [],
   "source": [
    "new_df['state'] = split_city[1]"
   ]
  },
  {
   "cell_type": "code",
   "execution_count": 186,
   "metadata": {
    "collapsed": true
   },
   "outputs": [],
   "source": [
    "state_dumb = pd.get_dummies(new_df.state)"
   ]
  },
  {
   "cell_type": "code",
   "execution_count": 187,
   "metadata": {
    "collapsed": false
   },
   "outputs": [
    {
     "data": {
      "text/plain": [
       "True"
      ]
     },
     "execution_count": 187,
     "metadata": {},
     "output_type": "execute_result"
    }
   ],
   "source": [
    "state_dumb.AZ.name == 'AZ'"
   ]
  },
  {
   "cell_type": "code",
   "execution_count": 188,
   "metadata": {
    "collapsed": false
   },
   "outputs": [],
   "source": [
    "for i in state_dumb.columns:\n",
    "    if len(state_dumb[i].name)>2:\n",
    "        state_dumb.drop(i, axis=1, inplace=True)"
   ]
  },
  {
   "cell_type": "code",
   "execution_count": 189,
   "metadata": {
    "collapsed": false
   },
   "outputs": [],
   "source": [
    "df = pd.concat([new_df.salaries_binary,state_dumb], axis=1)"
   ]
  },
  {
   "cell_type": "code",
   "execution_count": 190,
   "metadata": {
    "collapsed": true
   },
   "outputs": [],
   "source": [
    "from sklearn.linear_model import LogisticRegression"
   ]
  },
  {
   "cell_type": "code",
   "execution_count": 191,
   "metadata": {
    "collapsed": false
   },
   "outputs": [],
   "source": [
    "new_df['city'] = split_city[0]\n",
    "new_df.city = new_df.city.str.replace(',', '')"
   ]
  },
  {
   "cell_type": "code",
   "execution_count": 192,
   "metadata": {
    "collapsed": true
   },
   "outputs": [],
   "source": [
    "import statsmodels.formula.api as sm"
   ]
  },
  {
   "cell_type": "code",
   "execution_count": 193,
   "metadata": {
    "collapsed": false
   },
   "outputs": [],
   "source": [
    "col_needed = df.columns[1:]"
   ]
  },
  {
   "cell_type": "code",
   "execution_count": 194,
   "metadata": {
    "collapsed": true
   },
   "outputs": [],
   "source": [
    "df = df.dropna()"
   ]
  },
  {
   "cell_type": "code",
   "execution_count": 212,
   "metadata": {
    "collapsed": false
   },
   "outputs": [
    {
     "data": {
      "text/plain": [
       "(Index([u'AZ', u'CA', u'CO', u'FL', u'GA', u'IL', u'NY', u'OR', u'PA', u'TX',\n",
       "        u'WA'],\n",
       "       dtype='object'),\n",
       " array([[-0.2548889 , -0.25105726, -0.79387088, -0.58217938, -0.49556153,\n",
       "          0.92093178, -0.25105726, -0.97712056, -0.17888293, -0.19346953,\n",
       "         -0.4359257 ]]))"
      ]
     },
     "execution_count": 212,
     "metadata": {},
     "output_type": "execute_result"
    }
   ],
   "source": [
    "X = df[col_needed]\n",
    "y = df['salaries_binary']\n",
    "\n",
    "logreg = LogisticRegression()\n",
    "model = logreg.fit(X, y)\n",
    "X.columns, logreg.coef_"
   ]
  },
  {
   "cell_type": "code",
   "execution_count": 213,
   "metadata": {
    "collapsed": false
   },
   "outputs": [
    {
     "name": "stdout",
     "output_type": "stream",
     "text": [
      "LogisticRegression(C=1.0, class_weight=None, dual=False, fit_intercept=True,\n",
      "          intercept_scaling=1, max_iter=100, multi_class='ovr', n_jobs=1,\n",
      "          penalty='l2', random_state=None, solver='liblinear', tol=0.0001,\n",
      "          verbose=0, warm_start=False)\n",
      "Classification Report: \n",
      "             precision    recall  f1-score   support\n",
      "\n",
      "          0       0.76      0.99      0.86        92\n",
      "          1       0.75      0.10      0.17        31\n",
      "\n",
      "avg / total       0.76      0.76      0.69       123\n",
      "\n",
      "Confusion Matrix:\n",
      "[[91  1]\n",
      " [28  3]]\n",
      "Classification Scoring:\n",
      "Accuracy Score: 0.764227642276\n",
      "AUC Score: 0.542952314165\n",
      "Precision Score: 0.75\n",
      "Recall Score: 0.0967741935484\n",
      "F1 Score: 0.171428571429\n",
      "Regression Scoring:\n",
      "MAE: 0.235772357724\n",
      "MSE: 0.235772357724\n",
      "R2: -0.250701262272\n"
     ]
    }
   ],
   "source": [
    "print model\n",
    "\n",
    "y_pred = model.predict(X)\n",
    "\n",
    "print \"Classification Report: \\n\", metrics.classification_report(y, y_pred)\n",
    "\n",
    "print \"Confusion Matrix:\\n\", metrics.confusion_matrix(y, y_pred)\n",
    "\n",
    "print \"Classification Scoring:\"\n",
    "print \"Accuracy Score:\", metrics.accuracy_score(y, y_pred)\n",
    "print \"AUC Score:\", metrics.roc_auc_score(y, y_pred)\n",
    "print \"Precision Score:\", metrics.precision_score(y, y_pred)\n",
    "print \"Recall Score:\", metrics.recall_score(y, y_pred)\n",
    "print \"F1 Score:\", metrics.f1_score(y, y_pred)\n",
    "\n",
    "print \"Regression Scoring:\"\n",
    "print \"MAE:\", metrics.mean_absolute_error(y, y_pred)\n",
    "print \"MSE:\", metrics.mean_squared_error(y, y_pred)\n",
    "print \"R2:\", metrics.r2_score(y, y_pred)"
   ]
  },
  {
   "cell_type": "markdown",
   "metadata": {
    "focus": false,
    "id": "a7afb2c0-d41e-4779-8216-91cd8dd4473f"
   },
   "source": [
    "#### Thought experiment: What is the baseline accuracy for this model?"
   ]
  },
  {
   "cell_type": "code",
   "execution_count": 196,
   "metadata": {
    "collapsed": true,
    "focus": false,
    "id": "87a17d3d-b7f4-4747-9f75-f9af1d18a174"
   },
   "outputs": [],
   "source": [
    "## YOUR CODE HERE"
   ]
  },
  {
   "cell_type": "markdown",
   "metadata": {
    "focus": false,
    "id": "4fb29de2-5b98-474c-a4ad-5170b72b9aea"
   },
   "source": [
    "#### Create a Logistic Regression model to predict High/Low salary using statsmodel. Start by ONLY using the location as a feature. Display the coefficients and write a short summary of what they mean."
   ]
  },
  {
   "cell_type": "code",
   "execution_count": null,
   "metadata": {
    "collapsed": true
   },
   "outputs": [],
   "source": []
  },
  {
   "cell_type": "markdown",
   "metadata": {
    "focus": false,
    "id": "0ef04f32-419c-4bf2-baf7-48201f03df89"
   },
   "source": [
    "#### Create a few new variables in your dataframe to represent interesting features of a job title.\n",
    "- For example, create a feature that represents whether 'Senior' is in the title \n",
    "- or whether 'Manager' is in the title. \n",
    "- Then build a new Logistic Regression model with these features. Do they add any value? \n"
   ]
  },
  {
   "cell_type": "code",
   "execution_count": 221,
   "metadata": {
    "collapsed": false,
    "focus": false,
    "id": "068dc1cf-7fd7-4f27-a1f1-7f0a5a221d29"
   },
   "outputs": [
    {
     "name": "stdout",
     "output_type": "stream",
     "text": [
      "LogisticRegression(C=1.0, class_weight=None, dual=False, fit_intercept=True,\n",
      "          intercept_scaling=1, max_iter=100, multi_class='ovr', n_jobs=1,\n",
      "          penalty='l2', random_state=None, solver='liblinear', tol=0.0001,\n",
      "          verbose=0, warm_start=False)\n",
      "Classification Report:\n",
      "             precision    recall  f1-score   support\n",
      "\n",
      "          0       0.75      1.00      0.86        92\n",
      "          1       0.00      0.00      0.00        31\n",
      "\n",
      "avg / total       0.56      0.75      0.64       123\n",
      "\n",
      "Confusion Matrix:\n",
      "[[92  0]\n",
      " [31  0]]\n",
      "Classification Scoring:\n",
      "Accuracy Score: 0.747967479675\n",
      "AUC Score: 0.5\n",
      "Precision Score: 0.0\n",
      "Recall Score: 0.0\n",
      "F1 Score: 0.0\n",
      "Regression Scoring:\n",
      "MAE: 0.252032520325\n",
      "MSE: 0.252032520325\n",
      "R2: -0.336956521739\n"
     ]
    }
   ],
   "source": [
    "new_df['senior'] = new_df['title'].str.contains('Senior')\n",
    "new_df['manager'] = new_df['title'].str.contains('Manager')\n",
    "\n",
    "X1 = new_df[['senior', 'manager']]\n",
    "y = new_df.salaries_binary\n",
    "\n",
    "model1 = LogisticRegression()\n",
    "model1.fit(X1, y)\n",
    "print model1\n",
    "\n",
    "y_pred1 = model1.predict(X1)\n",
    "\n",
    "print \"Classification Report:\"\n",
    "print metrics.classification_report(y, y_pred1)\n",
    "\n",
    "print \"Confusion Matrix:\"\n",
    "print metrics.confusion_matrix(y, y_pred1)\n",
    "\n",
    "print \"Classification Scoring:\"\n",
    "print \"Accuracy Score:\", metrics.accuracy_score(y, y_pred1)\n",
    "print \"AUC Score:\", metrics.roc_auc_score(y, y_pred1)\n",
    "print \"Precision Score:\", metrics.precision_score(y, y_pred1)\n",
    "print \"Recall Score:\", metrics.recall_score(y, y_pred1)\n",
    "print \"F1 Score:\", metrics.f1_score(y, y_pred1)\n",
    "\n",
    "print \"Regression Scoring:\"\n",
    "print \"MAE:\", metrics.mean_absolute_error(y, y_pred1)\n",
    "print \"MSE:\", metrics.mean_squared_error(y, y_pred1)\n",
    "print \"R2:\", metrics.r2_score(y, y_pred1)\n",
    "\n"
   ]
  },
  {
   "cell_type": "markdown",
   "metadata": {
    "focus": false,
    "id": "9c9274ef-c9f5-4d56-b286-ecc8709eff9f"
   },
   "source": [
    "#### Rebuild this model with scikit-learn.\n",
    "- You can either create the dummy features manually or use the `dmatrix` function from `patsy`\n",
    "- Remember to scale the feature variables as well!\n"
   ]
  },
  {
   "cell_type": "code",
   "execution_count": 199,
   "metadata": {
    "collapsed": false,
    "focus": false,
    "id": "b76f65cd-cd3a-4e91-af55-12880be7b057"
   },
   "outputs": [],
   "source": [
    "## YOUR CODE HERE"
   ]
  },
  {
   "cell_type": "markdown",
   "metadata": {
    "focus": false,
    "id": "9367beff-72ba-4768-a0ba-a50b335de61d"
   },
   "source": [
    "#### Use cross-validation in scikit-learn to evaluate the model above. \n",
    "- Evaluate the accuracy, AUC, precision and recall of the model. \n",
    "- Discuss the differences and explain when you want a high-recall or a high-precision model in this scenario."
   ]
  },
  {
   "cell_type": "code",
   "execution_count": 222,
   "metadata": {
    "collapsed": false,
    "focus": false,
    "id": "269b9e7c-60b5-4a06-8255-881d7395bc1b"
   },
   "outputs": [
    {
     "name": "stdout",
     "output_type": "stream",
     "text": [
      "Classification Report:              precision    recall  f1-score   support\n",
      "\n",
      "          0       0.78      0.86      0.81        69\n",
      "          1       0.09      0.06      0.07        18\n",
      "\n",
      "avg / total       0.63      0.69      0.66        87\n",
      "\n",
      "Confusion Matrix: [[59 10]\n",
      " [17  1]]\n",
      "Classification Scoring:\n",
      "Accuracy Score: 0.689655172414\n",
      "AUC Score: 0.455314009662\n",
      "Precision Score: 0.0909090909091\n",
      "Recall Score: 0.0555555555556\n",
      "F1 Score: 0.0689655172414\n",
      "Regression Scoring:\n",
      "MAE: 0.310344827586\n",
      "MSE: 0.310344827586\n",
      "R2: -0.891304347826\n"
     ]
    }
   ],
   "source": [
    "X_train, X_test, y_train, y_test = train_test_split(X, y, test_size=0.70)\n",
    "lr = LogisticRegression()\n",
    "lr.fit(X_train, y_train)\n",
    "y_pred = lr.predict(X_test)\n",
    "print \"Classification Report:\", metrics.classification_report(y_test, y_pred)\n",
    "\n",
    "print \"Confusion Matrix:\", metrics.confusion_matrix(y_test, y_pred)\n",
    "\n",
    "print \"Classification Scoring:\"\n",
    "print \"Accuracy Score:\", metrics.accuracy_score(y_test, y_pred)\n",
    "print \"AUC Score:\", metrics.roc_auc_score(y_test, y_pred)\n",
    "print \"Precision Score:\", metrics.precision_score(y_test, y_pred)\n",
    "print \"Recall Score:\", metrics.recall_score(y_test, y_pred)\n",
    "print \"F1 Score:\", metrics.f1_score(y_test, y_pred)\n",
    "\n",
    "print \"Regression Scoring:\"\n",
    "print \"MAE:\", metrics.mean_absolute_error(y_test, y_pred)\n",
    "print \"MSE:\", metrics.mean_squared_error(y_test, y_pred)\n",
    "print \"R2:\", metrics.r2_score(y_test, y_pred)"
   ]
  },
  {
   "cell_type": "markdown",
   "metadata": {
    "focus": false,
    "id": "8c22664b-92e4-4fc2-b7ac-fbac865845d3"
   },
   "source": [
    "#### Compare L1 and L2 regularization for this logistic regression model. What effect does this have on the coefficients learned?"
   ]
  },
  {
   "cell_type": "code",
   "execution_count": 223,
   "metadata": {
    "collapsed": false,
    "focus": false,
    "id": "172fd952-5012-4630-81f4-1206da6eb820"
   },
   "outputs": [
    {
     "name": "stdout",
     "output_type": "stream",
     "text": [
      "Classification Report:              precision    recall  f1-score   support\n",
      "\n",
      "          0       0.77      1.00      0.87        67\n",
      "          1       0.00      0.00      0.00        20\n",
      "\n",
      "avg / total       0.59      0.77      0.67        87\n",
      "\n",
      "Confusion Matrix: [[67  0]\n",
      " [20  0]]\n",
      "Classification Scoring:\n",
      "Accuracy Score: 0.770114942529\n",
      "AUC Score: 0.5\n",
      "Precision Score: 0.0\n",
      "Recall Score: 0.0\n",
      "F1 Score: 0.0\n",
      "Regression Scoring:\n",
      "MAE: 0.229885057471\n",
      "MSE: 0.229885057471\n",
      "R2: -0.298507462687\n"
     ]
    }
   ],
   "source": [
    "X_train, X_test, y_train, y_test = train_test_split(X, y, test_size=0.70)\n",
    "lr = LogisticRegression(penalty='l1')\n",
    "lr.fit(X_train, y_train)\n",
    "y_pred = lr.predict(X_test)\n",
    "print \"Classification Report:\", metrics.classification_report(y_test, y_pred)\n",
    "\n",
    "print \"Confusion Matrix:\", metrics.confusion_matrix(y_test, y_pred)\n",
    "\n",
    "print \"Classification Scoring:\"\n",
    "print \"Accuracy Score:\", metrics.accuracy_score(y_test, y_pred)\n",
    "print \"AUC Score:\", metrics.roc_auc_score(y_test, y_pred)\n",
    "print \"Precision Score:\", metrics.precision_score(y_test, y_pred)\n",
    "print \"Recall Score:\", metrics.recall_score(y_test, y_pred)\n",
    "print \"F1 Score:\", metrics.f1_score(y_test, y_pred)\n",
    "\n",
    "print \"Regression Scoring:\"\n",
    "print \"MAE:\", metrics.mean_absolute_error(y_test, y_pred)\n",
    "print \"MSE:\", metrics.mean_squared_error(y_test, y_pred)\n",
    "print \"R2:\", metrics.r2_score(y_test, y_pred)"
   ]
  },
  {
   "cell_type": "code",
   "execution_count": 224,
   "metadata": {
    "collapsed": false
   },
   "outputs": [
    {
     "name": "stdout",
     "output_type": "stream",
     "text": [
      "Classification Report:              precision    recall  f1-score   support\n",
      "\n",
      "          0       0.75      1.00      0.86        65\n",
      "          1       0.00      0.00      0.00        22\n",
      "\n",
      "avg / total       0.56      0.75      0.64        87\n",
      "\n",
      "Confusion Matrix: [[65  0]\n",
      " [22  0]]\n",
      "Classification Scoring:\n",
      "Accuracy Score: 0.747126436782\n",
      "AUC Score: 0.5\n",
      "Precision Score: 0.0\n",
      "Recall Score: 0.0\n",
      "F1 Score: 0.0\n",
      "Regression Scoring:\n",
      "MAE: 0.252873563218\n",
      "MSE: 0.252873563218\n",
      "R2: -0.338461538462\n"
     ]
    }
   ],
   "source": [
    "X_train, X_test, y_train, y_test = train_test_split(X, y, test_size=0.70)\n",
    "lr = LogisticRegression(penalty='l2')\n",
    "lr.fit(X_train, y_train)\n",
    "y_pred = lr.predict(X_test)\n",
    "print \"Classification Report:\", metrics.classification_report(y_test, y_pred)\n",
    "\n",
    "print \"Confusion Matrix:\", metrics.confusion_matrix(y_test, y_pred)\n",
    "\n",
    "print \"Classification Scoring:\"\n",
    "print \"Accuracy Score:\", metrics.accuracy_score(y_test, y_pred)\n",
    "print \"AUC Score:\", metrics.roc_auc_score(y_test, y_pred)\n",
    "print \"Precision Score:\", metrics.precision_score(y_test, y_pred)\n",
    "print \"Recall Score:\", metrics.recall_score(y_test, y_pred)\n",
    "print \"F1 Score:\", metrics.f1_score(y_test, y_pred)\n",
    "\n",
    "print \"Regression Scoring:\"\n",
    "print \"MAE:\", metrics.mean_absolute_error(y_test, y_pred)\n",
    "print \"MSE:\", metrics.mean_squared_error(y_test, y_pred)\n",
    "print \"R2:\", metrics.r2_score(y_test, y_pred)"
   ]
  },
  {
   "cell_type": "code",
   "execution_count": 202,
   "metadata": {
    "collapsed": false,
    "focus": false,
    "id": "56cc8854-d722-411d-a6c7-e86310710f67"
   },
   "outputs": [],
   "source": [
    "## YOUR CODE HERE"
   ]
  },
  {
   "cell_type": "markdown",
   "metadata": {
    "focus": false,
    "id": "fead9b5b-7316-405d-87fd-e144dff0cbeb"
   },
   "source": [
    "#### Continue to incorporate other text features from the title or summary that you believe will predict the salary and examine their coefficients"
   ]
  },
  {
   "cell_type": "markdown",
   "metadata": {
    "focus": false,
    "id": "12d5edeb-a272-43a0-9977-d951f12fedfb"
   },
   "source": [
    "#### Take ~100 scraped entries with salaries. Convert them to use with your model and predict the salary - which entries have the highest predicted salaries?"
   ]
  },
  {
   "cell_type": "markdown",
   "metadata": {
    "focus": false,
    "id": "3be94357-e551-4094-b784-2df039216d33"
   },
   "source": [
    "### BONUS "
   ]
  },
  {
   "cell_type": "markdown",
   "metadata": {
    "focus": false,
    "id": "db045898-1d2d-4af2-8e79-437c4c7546b4"
   },
   "source": [
    "#### Bonus: Use Count Vectorizer from scikit-learn to create features from the text summaries. \n",
    "- Examine using count or binary features in the model\n",
    "- Re-evaluate the logistic regression model using these. Does this improve the model performance? \n",
    "- What text features are the most valuable? "
   ]
  },
  {
   "cell_type": "code",
   "execution_count": 203,
   "metadata": {
    "collapsed": false,
    "focus": false,
    "id": "4239e458-28bd-4675-8db3-c1d9c02b9854"
   },
   "outputs": [],
   "source": [
    "## YOUR CODE HERE"
   ]
  },
  {
   "cell_type": "code",
   "execution_count": 204,
   "metadata": {
    "collapsed": false,
    "focus": false,
    "id": "fec80936-37bc-4922-89bd-b5d615566c9c"
   },
   "outputs": [],
   "source": [
    "## YOUR CODE HERE"
   ]
  },
  {
   "cell_type": "markdown",
   "metadata": {
    "focus": false,
    "id": "d42b9fd8-39d5-416a-b40b-7410e6396c11"
   },
   "source": [
    "#### Re-test L1 and L2 regularization. You can use LogisticRegressionCV to find the optimal reguarlization parameters. \n",
    "- Re-test what text features are most valuable.  \n",
    "- How do L1 and L2 change the coefficients?"
   ]
  },
  {
   "cell_type": "code",
   "execution_count": 205,
   "metadata": {
    "collapsed": false,
    "focus": false,
    "id": "7570e237-c8cc-4e26-b569-7aee10627e79"
   },
   "outputs": [],
   "source": [
    "## YOUR CODE HERE"
   ]
  },
  {
   "cell_type": "code",
   "execution_count": null,
   "metadata": {
    "collapsed": true,
    "focus": false,
    "id": "e3a0c83d-e3b8-4bed-b864-7e795b34a3d4"
   },
   "outputs": [],
   "source": []
  }
 ],
 "metadata": {
  "anaconda-cloud": {},
  "kernelspec": {
   "display_name": "Python [conda env:dsienv]",
   "language": "python",
   "name": "conda-env-dsienv-py"
  },
  "language_info": {
   "codemirror_mode": {
    "name": "ipython",
    "version": 2
   },
   "file_extension": ".py",
   "mimetype": "text/x-python",
   "name": "python",
   "nbconvert_exporter": "python",
   "pygments_lexer": "ipython2",
   "version": "2.7.12"
  }
 },
 "nbformat": 4,
 "nbformat_minor": 0
}
